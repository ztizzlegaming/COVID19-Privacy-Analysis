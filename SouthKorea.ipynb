{
 "cells": [
  {
   "cell_type": "code",
   "execution_count": 1,
   "metadata": {},
   "outputs": [],
   "source": [
    "import numpy as np\n",
    "import pandas as pd\n",
    "import matplotlib.pyplot as plt\n",
    "import statsmodels.api as sm\n",
    "from sklearn.linear_model import LogisticRegression, LinearRegression\n",
    "from sklearn.model_selection import train_test_split\n",
    "from sklearn.metrics import confusion_matrix\n",
    "import seaborn as sns\n",
    "import operator"
   ]
  },
  {
   "cell_type": "code",
   "execution_count": 2,
   "metadata": {},
   "outputs": [],
   "source": [
    "# Helper functions for use later\n",
    "\n",
    "def naToStr(df, columns):\n",
    "    '''Convert the na/nan values in a pd dataframe to the string \"NaN\".'''\n",
    "    for col in columns:\n",
    "        df.loc[df[col].isna(), col] = 'NaN'\n",
    "        \n",
    "def strToNa(df, columns):\n",
    "    '''Convert the string values \"NaN\" back to actual nan'''\n",
    "    for col in columns:\n",
    "        df.loc[df[col] == 'NaN', col] = np.nan\n",
    "        \n",
    "def oneHotEncoding(df, columns):\n",
    "    '''Perform one-hot encoding for given columns'''\n",
    "    d = pd.get_dummies(df[columns], drop_first = True)\n",
    "    df[d.columns] = d\n",
    "    df.drop(columns, axis = 1, inplace = True)\n",
    "        \n",
    "def imputeMeanWithNA(df, column):\n",
    "    '''Provides one method to fix missing value for a quantitative column.\n",
    "    Creates a new 0/1 column indicating whether the original column was na/nan,\n",
    "    and imputes the mean to the original column where there were na/nan values.\n",
    "    '''\n",
    "    df[column + ' NaN'] = df[column].isna().astype(int)\n",
    "    df.loc[df[column].isna(), column] = df[column].mean()"
   ]
  },
  {
   "cell_type": "code",
   "execution_count": 3,
   "metadata": {},
   "outputs": [
    {
     "data": {
      "text/html": [
       "<div>\n",
       "<style scoped>\n",
       "    .dataframe tbody tr th:only-of-type {\n",
       "        vertical-align: middle;\n",
       "    }\n",
       "\n",
       "    .dataframe tbody tr th {\n",
       "        vertical-align: top;\n",
       "    }\n",
       "\n",
       "    .dataframe thead th {\n",
       "        text-align: right;\n",
       "    }\n",
       "</style>\n",
       "<table border=\"1\" class=\"dataframe\">\n",
       "  <thead>\n",
       "    <tr style=\"text-align: right;\">\n",
       "      <th></th>\n",
       "      <th>0</th>\n",
       "      <th>1</th>\n",
       "      <th>2</th>\n",
       "      <th>3323</th>\n",
       "      <th>3324</th>\n",
       "      <th>3325</th>\n",
       "    </tr>\n",
       "  </thead>\n",
       "  <tbody>\n",
       "    <tr>\n",
       "      <td>patient_id</td>\n",
       "      <td>1000000001</td>\n",
       "      <td>1000000002</td>\n",
       "      <td>1000000003</td>\n",
       "      <td>7000000011</td>\n",
       "      <td>7000000012</td>\n",
       "      <td>7000000013</td>\n",
       "    </tr>\n",
       "    <tr>\n",
       "      <td>global_num</td>\n",
       "      <td>2</td>\n",
       "      <td>5</td>\n",
       "      <td>6</td>\n",
       "      <td>NaN</td>\n",
       "      <td>NaN</td>\n",
       "      <td>NaN</td>\n",
       "    </tr>\n",
       "    <tr>\n",
       "      <td>sex</td>\n",
       "      <td>male</td>\n",
       "      <td>male</td>\n",
       "      <td>male</td>\n",
       "      <td>male</td>\n",
       "      <td>female</td>\n",
       "      <td>female</td>\n",
       "    </tr>\n",
       "    <tr>\n",
       "      <td>birth_year</td>\n",
       "      <td>1964</td>\n",
       "      <td>1987</td>\n",
       "      <td>1964</td>\n",
       "      <td>NaN</td>\n",
       "      <td>NaN</td>\n",
       "      <td>NaN</td>\n",
       "    </tr>\n",
       "    <tr>\n",
       "      <td>age</td>\n",
       "      <td>50s</td>\n",
       "      <td>30s</td>\n",
       "      <td>50s</td>\n",
       "      <td>30s</td>\n",
       "      <td>20s</td>\n",
       "      <td>10s</td>\n",
       "    </tr>\n",
       "    <tr>\n",
       "      <td>country</td>\n",
       "      <td>Korea</td>\n",
       "      <td>Korea</td>\n",
       "      <td>Korea</td>\n",
       "      <td>Korea</td>\n",
       "      <td>Korea</td>\n",
       "      <td>China</td>\n",
       "    </tr>\n",
       "    <tr>\n",
       "      <td>province</td>\n",
       "      <td>Seoul</td>\n",
       "      <td>Seoul</td>\n",
       "      <td>Seoul</td>\n",
       "      <td>Jeju-do</td>\n",
       "      <td>Jeju-do</td>\n",
       "      <td>Jeju-do</td>\n",
       "    </tr>\n",
       "    <tr>\n",
       "      <td>city</td>\n",
       "      <td>Gangseo-gu</td>\n",
       "      <td>Jungnang-gu</td>\n",
       "      <td>Jongno-gu</td>\n",
       "      <td>Jeju-do</td>\n",
       "      <td>Jeju-do</td>\n",
       "      <td>Jeju-do</td>\n",
       "    </tr>\n",
       "    <tr>\n",
       "      <td>disease</td>\n",
       "      <td>NaN</td>\n",
       "      <td>NaN</td>\n",
       "      <td>NaN</td>\n",
       "      <td>NaN</td>\n",
       "      <td>NaN</td>\n",
       "      <td>NaN</td>\n",
       "    </tr>\n",
       "    <tr>\n",
       "      <td>infection_case</td>\n",
       "      <td>overseas inflow</td>\n",
       "      <td>overseas inflow</td>\n",
       "      <td>contact with patient</td>\n",
       "      <td>contact with patient</td>\n",
       "      <td>overseas inflow</td>\n",
       "      <td>overseas inflow</td>\n",
       "    </tr>\n",
       "    <tr>\n",
       "      <td>infection_order</td>\n",
       "      <td>1</td>\n",
       "      <td>1</td>\n",
       "      <td>2</td>\n",
       "      <td>NaN</td>\n",
       "      <td>NaN</td>\n",
       "      <td>NaN</td>\n",
       "    </tr>\n",
       "    <tr>\n",
       "      <td>infected_by</td>\n",
       "      <td>NaN</td>\n",
       "      <td>NaN</td>\n",
       "      <td>2.002e+09</td>\n",
       "      <td>7e+09</td>\n",
       "      <td>NaN</td>\n",
       "      <td>NaN</td>\n",
       "    </tr>\n",
       "    <tr>\n",
       "      <td>contact_number</td>\n",
       "      <td>75</td>\n",
       "      <td>31</td>\n",
       "      <td>17</td>\n",
       "      <td>5</td>\n",
       "      <td>9</td>\n",
       "      <td>6</td>\n",
       "    </tr>\n",
       "    <tr>\n",
       "      <td>symptom_onset_date</td>\n",
       "      <td>2020-01-22</td>\n",
       "      <td>NaN</td>\n",
       "      <td>NaN</td>\n",
       "      <td>NaN</td>\n",
       "      <td>NaN</td>\n",
       "      <td>NaN</td>\n",
       "    </tr>\n",
       "    <tr>\n",
       "      <td>confirmed_date</td>\n",
       "      <td>2020-01-23</td>\n",
       "      <td>2020-01-30</td>\n",
       "      <td>2020-01-30</td>\n",
       "      <td>2020-04-03</td>\n",
       "      <td>2020-04-03</td>\n",
       "      <td>2020-04-14</td>\n",
       "    </tr>\n",
       "    <tr>\n",
       "      <td>released_date</td>\n",
       "      <td>2020-02-05</td>\n",
       "      <td>2020-03-02</td>\n",
       "      <td>2020-02-19</td>\n",
       "      <td>NaN</td>\n",
       "      <td>NaN</td>\n",
       "      <td>NaN</td>\n",
       "    </tr>\n",
       "    <tr>\n",
       "      <td>deceased_date</td>\n",
       "      <td>NaN</td>\n",
       "      <td>NaN</td>\n",
       "      <td>NaN</td>\n",
       "      <td>NaN</td>\n",
       "      <td>NaN</td>\n",
       "      <td>NaN</td>\n",
       "    </tr>\n",
       "    <tr>\n",
       "      <td>state</td>\n",
       "      <td>released</td>\n",
       "      <td>released</td>\n",
       "      <td>released</td>\n",
       "      <td>isolated</td>\n",
       "      <td>isolated</td>\n",
       "      <td>isolated</td>\n",
       "    </tr>\n",
       "  </tbody>\n",
       "</table>\n",
       "</div>"
      ],
      "text/plain": [
       "                               0                1                     2     \\\n",
       "patient_id               1000000001       1000000002            1000000003   \n",
       "global_num                        2                5                     6   \n",
       "sex                            male             male                  male   \n",
       "birth_year                     1964             1987                  1964   \n",
       "age                             50s              30s                   50s   \n",
       "country                       Korea            Korea                 Korea   \n",
       "province                      Seoul            Seoul                 Seoul   \n",
       "city                     Gangseo-gu      Jungnang-gu             Jongno-gu   \n",
       "disease                         NaN              NaN                   NaN   \n",
       "infection_case      overseas inflow  overseas inflow  contact with patient   \n",
       "infection_order                   1                1                     2   \n",
       "infected_by                     NaN              NaN             2.002e+09   \n",
       "contact_number                   75               31                    17   \n",
       "symptom_onset_date       2020-01-22              NaN                   NaN   \n",
       "confirmed_date           2020-01-23       2020-01-30            2020-01-30   \n",
       "released_date            2020-02-05       2020-03-02            2020-02-19   \n",
       "deceased_date                   NaN              NaN                   NaN   \n",
       "state                      released         released              released   \n",
       "\n",
       "                                    3323             3324             3325  \n",
       "patient_id                    7000000011       7000000012       7000000013  \n",
       "global_num                           NaN              NaN              NaN  \n",
       "sex                                 male           female           female  \n",
       "birth_year                           NaN              NaN              NaN  \n",
       "age                                  30s              20s              10s  \n",
       "country                            Korea            Korea            China  \n",
       "province                         Jeju-do          Jeju-do          Jeju-do  \n",
       "city                             Jeju-do          Jeju-do          Jeju-do  \n",
       "disease                              NaN              NaN              NaN  \n",
       "infection_case      contact with patient  overseas inflow  overseas inflow  \n",
       "infection_order                      NaN              NaN              NaN  \n",
       "infected_by                        7e+09              NaN              NaN  \n",
       "contact_number                         5                9                6  \n",
       "symptom_onset_date                   NaN              NaN              NaN  \n",
       "confirmed_date                2020-04-03       2020-04-03       2020-04-14  \n",
       "released_date                        NaN              NaN              NaN  \n",
       "deceased_date                        NaN              NaN              NaN  \n",
       "state                           isolated         isolated         isolated  "
      ]
     },
     "execution_count": 3,
     "metadata": {},
     "output_type": "execute_result"
    }
   ],
   "source": [
    "patient_raw = pd.read_csv('coronavirusdataset/PatientInfo.csv')\n",
    "patient_raw.head(3).append(patient_raw.tail(3)).T"
   ]
  },
  {
   "cell_type": "markdown",
   "metadata": {},
   "source": [
    "# EDA"
   ]
  },
  {
   "cell_type": "code",
   "execution_count": 4,
   "metadata": {},
   "outputs": [
    {
     "name": "stdout",
     "output_type": "stream",
     "text": [
      "Number of confirmed cases: 3326\n"
     ]
    }
   ],
   "source": [
    "print('Number of confirmed cases:', patient_raw.shape[0])"
   ]
  },
  {
   "cell_type": "code",
   "execution_count": 5,
   "metadata": {},
   "outputs": [
    {
     "data": {
      "text/plain": [
       "released    1637\n",
       "isolated    1622\n",
       "deceased      67\n",
       "Name: state, dtype: int64"
      ]
     },
     "execution_count": 5,
     "metadata": {},
     "output_type": "execute_result"
    }
   ],
   "source": [
    "patient_raw['state'].value_counts()"
   ]
  },
  {
   "cell_type": "markdown",
   "metadata": {},
   "source": [
    "## Age"
   ]
  },
  {
   "cell_type": "code",
   "execution_count": 6,
   "metadata": {},
   "outputs": [
    {
     "data": {
      "text/plain": [
       "437"
      ]
     },
     "execution_count": 6,
     "metadata": {},
     "output_type": "execute_result"
    }
   ],
   "source": [
    "patient_raw['birth_year'].isna().sum()"
   ]
  },
  {
   "cell_type": "code",
   "execution_count": 7,
   "metadata": {},
   "outputs": [],
   "source": [
    "patient_raw['actual_age'] = 2020 - patient_raw['birth_year']"
   ]
  },
  {
   "cell_type": "code",
   "execution_count": 8,
   "metadata": {},
   "outputs": [
    {
     "name": "stderr",
     "output_type": "stream",
     "text": [
      "D:\\ProgramData\\lib\\site-packages\\numpy\\lib\\histograms.py:839: RuntimeWarning: invalid value encountered in greater_equal\n",
      "  keep = (tmp_a >= first_edge)\n",
      "D:\\ProgramData\\lib\\site-packages\\numpy\\lib\\histograms.py:840: RuntimeWarning: invalid value encountered in less_equal\n",
      "  keep &= (tmp_a <= last_edge)\n"
     ]
    },
    {
     "data": {
      "text/plain": [
       "<matplotlib.legend.Legend at 0x150478e6a88>"
      ]
     },
     "execution_count": 8,
     "metadata": {},
     "output_type": "execute_result"
    },
    {
     "data": {
      "image/png": "[encoded data removed]",
      "text/plain": [
       "<Figure size 1152x360 with 2 Axes>"
      ]
     },
     "metadata": {
      "needs_background": "light"
     },
     "output_type": "display_data"
    }
   ],
   "source": [
    "plt.figure(figsize = (16, 5))\n",
    "\n",
    "plt.subplot(1, 2, 1)\n",
    "plt.hist(patient_raw['actual_age'])\n",
    "plt.xlabel('Age')\n",
    "plt.ylabel('Count')\n",
    "plt.title('Overall Age Distribution')\n",
    "\n",
    "plt.subplot(1, 2, 2)\n",
    "plt.hist(patient_raw['actual_age'][patient_raw['state'] == 'released'], alpha = 0.5)\n",
    "plt.hist(patient_raw['actual_age'][patient_raw['state'] == 'deceased'], alpha = 0.5)\n",
    "plt.xlabel('Age')\n",
    "plt.ylabel('Count')\n",
    "plt.title('Age Distribution Based on Recovered/Deceased')\n",
    "plt.legend(['Recovered', 'Deceased'])"
   ]
  },
  {
   "cell_type": "markdown",
   "metadata": {},
   "source": [
    "## Gender"
   ]
  },
  {
   "cell_type": "code",
   "execution_count": 9,
   "metadata": {},
   "outputs": [
    {
     "name": "stdout",
     "output_type": "stream",
     "text": [
      "Unique gender values: ['male' 'female' nan]\n",
      "Number of nan values: 66\n"
     ]
    }
   ],
   "source": [
    "print('Unique gender values:', patient_raw.sex.unique())\n",
    "print('Number of nan values:', patient_raw.sex.isna().sum())"
   ]
  },
  {
   "cell_type": "code",
   "execution_count": 10,
   "metadata": {},
   "outputs": [
    {
     "data": {
      "text/html": [
       "<div>\n",
       "<style scoped>\n",
       "    .dataframe tbody tr th:only-of-type {\n",
       "        vertical-align: middle;\n",
       "    }\n",
       "\n",
       "    .dataframe tbody tr th {\n",
       "        vertical-align: top;\n",
       "    }\n",
       "\n",
       "    .dataframe thead th {\n",
       "        text-align: right;\n",
       "    }\n",
       "</style>\n",
       "<table border=\"1\" class=\"dataframe\">\n",
       "  <thead>\n",
       "    <tr style=\"text-align: right;\">\n",
       "      <th></th>\n",
       "      <th>gender</th>\n",
       "      <th>confirmed</th>\n",
       "    </tr>\n",
       "  </thead>\n",
       "  <tbody>\n",
       "    <tr>\n",
       "      <td>0</td>\n",
       "      <td>female</td>\n",
       "      <td>1831</td>\n",
       "    </tr>\n",
       "    <tr>\n",
       "      <td>1</td>\n",
       "      <td>male</td>\n",
       "      <td>1429</td>\n",
       "    </tr>\n",
       "  </tbody>\n",
       "</table>\n",
       "</div>"
      ],
      "text/plain": [
       "   gender  confirmed\n",
       "0  female       1831\n",
       "1    male       1429"
      ]
     },
     "execution_count": 10,
     "metadata": {},
     "output_type": "execute_result"
    }
   ],
   "source": [
    "gender_dis = patient_raw[['patient_id', 'sex']].groupby('sex', as_index=False).count()\n",
    "gender_dis.columns = ['gender', 'confirmed']\n",
    "gender_dis"
   ]
  },
  {
   "cell_type": "code",
   "execution_count": 33,
   "metadata": {},
   "outputs": [
    {
     "name": "stdout",
     "output_type": "stream",
     "text": [
      "0.019619500594530322\n"
     ]
    },
    {
     "data": {
      "text/plain": [
       "\"\\nplt.subplot(1, 2, 2)\\nplt.hist(patient_raw[patient_raw['sex'] == 'male']['state'], alpha = 0.5)\\nplt.hist(patient_raw[patient_raw['sex'] == 'female']['state'], alpha = 0.5)\\nplt.ylabel('Count')\\nplt.title('Distribution of Patient_Status based on Gender')\\nplt.legend(['Male', 'Female'])\\n\""
      ]
     },
     "execution_count": 33,
     "metadata": {},
     "output_type": "execute_result"
    },
    {
     "data": {
      "image/png": "[encoded data removed]",
      "text/plain": [
       "<Figure size 1152x360 with 2 Axes>"
      ]
     },
     "metadata": {},
     "output_type": "display_data"
    },
    {
     "data": {
      "image/png": "[encoded data removed]",
      "text/plain": [
       "<Figure size 504.85x432 with 1 Axes>"
      ]
     },
     "metadata": {},
     "output_type": "display_data"
    }
   ],
   "source": [
    "genderMale = np.sum(patient_raw['sex'] == 'male')\n",
    "genderFemale = np.sum(patient_raw['sex'] == 'female')\n",
    "genderNA = np.sum(patient_raw['sex'].isna())\n",
    "print(genderNA/3364)\n",
    "\n",
    "fig, ax = plt.subplots(1, 2, figsize = (16, 5))\n",
    "\n",
    "plt.subplot(1, 2, 1)\n",
    "plt.bar(['Male', 'Female', 'NA'], [genderMale, genderFemale, genderNA])\n",
    "plt.ylabel('Count')\n",
    "plt.title('Distribution of Gender')\n",
    "\n",
    "sns.set(style=\"whitegrid\")\n",
    "g = sns.catplot(x=\"state\", kind=\"count\", hue=\"sex\", data=patient_raw,\n",
    "                height=6, palette=\"muted\", ax = ax[1])\n",
    "g.despine(left=True)\n",
    "g.set_ylabels(\"State histogram for different genders\")\n",
    "\n",
    "'''\n",
    "plt.subplot(1, 2, 2)\n",
    "plt.hist(patient_raw[patient_raw['sex'] == 'male']['state'], alpha = 0.5)\n",
    "plt.hist(patient_raw[patient_raw['sex'] == 'female']['state'], alpha = 0.5)\n",
    "plt.ylabel('Count')\n",
    "plt.title('Distribution of Patient_Status based on Gender')\n",
    "plt.legend(['Male', 'Female'])\n",
    "'''"
   ]
  },
  {
   "cell_type": "markdown",
   "metadata": {},
   "source": [
    "## Infection Order"
   ]
  },
  {
   "cell_type": "markdown",
   "metadata": {},
   "source": [
    "- 1 = not infected by other patients in S. Korea\n",
    "- 2 = infected by the 1st-order patient\n",
    "- and so forth"
   ]
  },
  {
   "cell_type": "code",
   "execution_count": 12,
   "metadata": {},
   "outputs": [
    {
     "data": {
      "text/plain": [
       "1.0    11\n",
       "2.0     8\n",
       "3.0     6\n",
       "5.0     3\n",
       "4.0     2\n",
       "6.0     1\n",
       "Name: infection_order, dtype: int64"
      ]
     },
     "execution_count": 12,
     "metadata": {},
     "output_type": "execute_result"
    }
   ],
   "source": [
    "patient_raw['infection_order'].value_counts()"
   ]
  },
  {
   "cell_type": "markdown",
   "metadata": {},
   "source": [
    "## Number of contacts"
   ]
  },
  {
   "cell_type": "markdown",
   "metadata": {},
   "source": [
    "- 0 = no contact with other patients\n",
    "- 1 = contacting (and possibly infecting) 1 other person\n",
    "- and so forth"
   ]
  },
  {
   "cell_type": "code",
   "execution_count": 13,
   "metadata": {},
   "outputs": [
    {
     "data": {
      "text/plain": [
       "2.0      81\n",
       "3.0      70\n",
       "1.0      67\n",
       "0.0      64\n",
       "5.0      36\n",
       "         ..\n",
       "20.0      1\n",
       "84.0      1\n",
       "174.0     1\n",
       "32.0      1\n",
       "75.0      1\n",
       "Name: contact_number, Length: 77, dtype: int64"
      ]
     },
     "execution_count": 13,
     "metadata": {},
     "output_type": "execute_result"
    }
   ],
   "source": [
    "patient_raw['contact_number'].value_counts()"
   ]
  },
  {
   "cell_type": "markdown",
   "metadata": {},
   "source": [
    "The number of values is too small to get a meaningful insight"
   ]
  },
  {
   "cell_type": "code",
   "execution_count": 14,
   "metadata": {},
   "outputs": [
    {
     "data": {
      "image/png": "[encoded data removed]",
      "text/plain": [
       "<Figure size 936x504 with 1 Axes>"
      ]
     },
     "metadata": {},
     "output_type": "display_data"
    }
   ],
   "source": [
    "fig, ax = plt.subplots(figsize=(13, 7))\n",
    "plt.title('Number of contacts by a patient before confirmed', fontsize=15)\n",
    "sns.distplot(patient_raw['contact_number'].dropna())\n",
    "ax.set_xlabel('Number of contacts', size=13)\n",
    "ax.set_ylabel('Patients', size=13)\n",
    "plt.show()"
   ]
  },
  {
   "cell_type": "markdown",
   "metadata": {},
   "source": [
    "# Anonymity and Privacy"
   ]
  },
  {
   "cell_type": "markdown",
   "metadata": {},
   "source": [
    "## K anonymity"
   ]
  },
  {
   "cell_type": "code",
   "execution_count": 15,
   "metadata": {},
   "outputs": [
    {
     "data": {
      "text/plain": [
       "Index(['patient_id', 'global_num', 'sex', 'birth_year', 'age', 'country',\n",
       "       'province', 'city', 'disease', 'infection_case', 'infection_order',\n",
       "       'infected_by', 'contact_number', 'symptom_onset_date', 'confirmed_date',\n",
       "       'released_date', 'deceased_date', 'state', 'actual_age'],\n",
       "      dtype='object')"
      ]
     },
     "execution_count": 15,
     "metadata": {},
     "output_type": "execute_result"
    }
   ],
   "source": [
    "patient_raw.columns"
   ]
  },
  {
   "cell_type": "markdown",
   "metadata": {},
   "source": [
    "Quasi-identifiers:\n",
    "    \n",
    "- sex\n",
    "- birth_year\n",
    "- age (duplicate with birth year)\n",
    "- province\n",
    "- city"
   ]
  },
  {
   "cell_type": "markdown",
   "metadata": {},
   "source": [
    "Here we don't take confirmed_date, released_date and deceased_date as quasi-identifiers because individuals' activity is not supposed by be publicly known."
   ]
  },
  {
   "cell_type": "code",
   "execution_count": 16,
   "metadata": {},
   "outputs": [],
   "source": [
    "def k_anonymous(patient_raw, cs = ['sex', 'birth_year', 'province', 'city']):\n",
    "    dfKAnon = patient_raw.copy()\n",
    "    naToStr(dfKAnon, dfKAnon.columns)\n",
    "\n",
    "    kAnonDict = {}\n",
    "    for i1 in range(len(dfKAnon)):\n",
    "        row = dfKAnon.iloc[i1]\n",
    "        key = []\n",
    "        for c in cs:\n",
    "            key.append(row[c])\n",
    "        key = tuple(key)\n",
    "        if key not in kAnonDict:\n",
    "            kAnonDict[key] = 0\n",
    "        kAnonDict[key] += 1\n",
    "        \n",
    "    sortedKAnonDict = sorted(kAnonDict.items(), key = operator.itemgetter(1))\n",
    "    \n",
    "    kCounts = {}\n",
    "    for key, value in sortedKAnonDict:\n",
    "        if value not in kCounts:\n",
    "            kCounts[value] = 0\n",
    "        kCounts[value] += 1\n",
    "    return sortedKAnonDict, kCounts, kAnonDict"
   ]
  },
  {
   "cell_type": "code",
   "execution_count": 17,
   "metadata": {},
   "outputs": [],
   "source": [
    "sortedKAnonDict, kCounts, _ = k_anonymous(patient_raw, cs = ['sex', 'birth_year', 'province', 'city'])"
   ]
  },
  {
   "cell_type": "code",
   "execution_count": 18,
   "metadata": {},
   "outputs": [
    {
     "data": {
      "text/plain": [
       "[(('male', 1964.0, 'Seoul', 'Gangseo-gu'), 1),\n",
       " (('male', 1987.0, 'Seoul', 'Jungnang-gu'), 1),\n",
       " (('male', 1964.0, 'Seoul', 'Jongno-gu'), 1),\n",
       " (('male', 1991.0, 'Seoul', 'Mapo-gu'), 1),\n",
       " (('female', 1992.0, 'Seoul', 'Seongbuk-gu'), 1),\n",
       " (('female', 1966.0, 'Seoul', 'Jongno-gu'), 1),\n",
       " (('male', 1995.0, 'Seoul', 'Jongno-gu'), 1),\n",
       " (('male', 1983.0, 'Seoul', 'Songpa-gu'), 1),\n",
       " (('female', 1962.0, 'Seoul', 'Seodaemun-gu'), 1),\n",
       " (('male', 1938.0, 'Seoul', 'Jongno-gu'), 1)]"
      ]
     },
     "execution_count": 18,
     "metadata": {},
     "output_type": "execute_result"
    }
   ],
   "source": [
    "sortedKAnonDict[:10]"
   ]
  },
  {
   "cell_type": "code",
   "execution_count": 19,
   "metadata": {},
   "outputs": [
    {
     "data": {
      "text/plain": [
       "(1687, 262, 64, 32, 14)"
      ]
     },
     "execution_count": 19,
     "metadata": {},
     "output_type": "execute_result"
    }
   ],
   "source": [
    "kCounts[1], kCounts[2], kCounts[3], kCounts[4], kCounts[5]"
   ]
  },
  {
   "cell_type": "markdown",
   "metadata": {},
   "source": [
    "Considering we only have 3300 samples, more than half of samples are unique, which is sure to be \"unsafe\""
   ]
  },
  {
   "cell_type": "markdown",
   "metadata": {},
   "source": [
    "## Fix k anonymity"
   ]
  },
  {
   "cell_type": "markdown",
   "metadata": {},
   "source": [
    "### Generalize birth year to age period"
   ]
  },
  {
   "cell_type": "code",
   "execution_count": 20,
   "metadata": {},
   "outputs": [],
   "source": [
    "sortedKAnonDict, kCounts, _ = k_anonymous(patient_raw, cs = ['sex', 'age', 'province', 'city'])"
   ]
  },
  {
   "cell_type": "code",
   "execution_count": 21,
   "metadata": {},
   "outputs": [
    {
     "data": {
      "text/plain": [
       "[(('male', '30s', 'Seoul', 'Jungnang-gu'), 1),\n",
       " (('male', '50s', 'Seoul', 'Jongno-gu'), 1),\n",
       " (('female', '50s', 'Seoul', 'Jongno-gu'), 1),\n",
       " (('female', '60s', 'Seoul', 'Jongno-gu'), 1),\n",
       " (('male', '70s', 'Seoul', 'Seongdong-gu'), 1),\n",
       " (('female', '70s', 'Seoul', 'Seongdong-gu'), 1),\n",
       " (('male', '50s', 'Seoul', 'Songpa-gu'), 1),\n",
       " (('female', '70s', 'Seoul', 'Geumcheon-gu'), 1),\n",
       " (('male', '60s', 'Seoul', 'Dongjak-gu'), 1),\n",
       " (('male', '40s', 'Seoul', 'Songpa-gu'), 1)]"
      ]
     },
     "execution_count": 21,
     "metadata": {},
     "output_type": "execute_result"
    }
   ],
   "source": [
    "sortedKAnonDict[:10]"
   ]
  },
  {
   "cell_type": "code",
   "execution_count": 22,
   "metadata": {},
   "outputs": [
    {
     "data": {
      "text/plain": [
       "(567, 217, 118, 71, 34)"
      ]
     },
     "execution_count": 22,
     "metadata": {},
     "output_type": "execute_result"
    }
   ],
   "source": [
    "kCounts[1], kCounts[2], kCounts[3], kCounts[4], kCounts[5]"
   ]
  },
  {
   "cell_type": "markdown",
   "metadata": {},
   "source": [
    "We reduce half but still many unique samples."
   ]
  },
  {
   "cell_type": "markdown",
   "metadata": {},
   "source": [
    "We notice this can happen when that area (maybe that city), only one male with under certain age period is infected with the flu."
   ]
  },
  {
   "cell_type": "markdown",
   "metadata": {},
   "source": [
    "### What if we only publish province?(generalize city to province)"
   ]
  },
  {
   "cell_type": "code",
   "execution_count": 23,
   "metadata": {},
   "outputs": [
    {
     "data": {
      "text/plain": [
       "(52, 29, 29, 21, 14)"
      ]
     },
     "execution_count": 23,
     "metadata": {},
     "output_type": "execute_result"
    }
   ],
   "source": [
    "sortedKAnonDict, kCounts,_ = k_anonymous(patient_raw, cs = ['sex', 'age', 'province'])\n",
    "kCounts[1], kCounts[2], kCounts[3], kCounts[4], kCounts[5]"
   ]
  },
  {
   "cell_type": "markdown",
   "metadata": {},
   "source": [
    "We can see that by only publishing provicing we hugely reduces the number of unique samples."
   ]
  },
  {
   "cell_type": "markdown",
   "metadata": {},
   "source": [
    "Here we have multiple choice to achieve 3-anonymity:\n",
    "\n",
    "- Use ['sex', 'age', 'province', 'city'] and then suppression\n",
    "- Use ['sex', 'age', 'province'] and then suppression"
   ]
  },
  {
   "cell_type": "code",
   "execution_count": 24,
   "metadata": {},
   "outputs": [],
   "source": [
    "_, _ , KAnonDict_small= k_anonymous(patient_raw, cs = ['sex', 'age', 'province'])\n",
    "_,_ , KAnonDict_big = k_anonymous(patient_raw, cs = ['sex', 'age', 'province', 'city'])"
   ]
  },
  {
   "cell_type": "code",
   "execution_count": 25,
   "metadata": {},
   "outputs": [],
   "source": [
    "smallDF = patient_raw.copy()\n",
    "bigDF = patient_raw.copy()\n",
    "\n",
    "for key, value in KAnonDict_small.items():\n",
    "    sex, age, province = key\n",
    "    indices = ~((smallDF['age'] == age) & (smallDF['sex'] == sex) & (smallDF['province'] == province))\n",
    "    if value <= 3:\n",
    "        smallDF = smallDF[indices]\n",
    "\n",
    "for key, value in KAnonDict_big.items():\n",
    "    sex, age, province, city = key\n",
    "    indices = ~((bigDF['age'] == age) & (bigDF['sex'] == sex) & (bigDF['province'] == province) & (bigDF['city'] == city))\n",
    "    if value <= 3:\n",
    "        bigDF = bigDF[indices]"
   ]
  },
  {
   "cell_type": "markdown",
   "metadata": {},
   "source": [
    "## Prediction"
   ]
  },
  {
   "cell_type": "markdown",
   "metadata": {},
   "source": [
    "For this dataset it is nearly impossible to predict whether the patient will die or recover: the dataset is so biased. This is partly due to the sampling of individual data. But mainly due to the death rate in south korea. In south korea the death rate is really low."
   ]
  },
  {
   "cell_type": "markdown",
   "metadata": {},
   "source": [
    "To compare the performance before and after manupulation, here I predict the gap between confirm and release date."
   ]
  },
  {
   "cell_type": "code",
   "execution_count": 26,
   "metadata": {},
   "outputs": [],
   "source": [
    "def linear_reg(dataset, i):\n",
    "    df = dataset.copy()\n",
    "    df['released_date'] = pd.to_datetime(df['released_date'])\n",
    "    df['confirmed_date'] = pd.to_datetime(df['confirmed_date'])\n",
    "    df['timediff'] = (df['released_date'] - df['confirmed_date']).dt.days\n",
    "    Xnew = df\n",
    "    Xnew = Xnew[Xnew['timediff'].isna() == False]\n",
    "    print(Xnew.shape)\n",
    "    \n",
    "    if i == 0: # original\n",
    "        numerical_cols =  ['contact_number', 'birth_year']\n",
    "        cat_cols = ['sex', 'age', 'country', 'province', 'city', 'infection_case']\n",
    "    if i == 1: # small\n",
    "        numerical_cols =  ['contact_number']\n",
    "        cat_cols = ['sex', 'age', 'country', 'province', 'infection_case']\n",
    "    if i == 2: # big\n",
    "        numerical_cols =  ['contact_number']\n",
    "        cat_cols = ['sex', 'age', 'country', 'province', 'city', 'infection_case']\n",
    "        \n",
    "    X = Xnew[numerical_cols + cat_cols]\n",
    "    \n",
    "    if i == 0:\n",
    "        imputeMeanWithNA(X, 'birth_year')\n",
    "        \n",
    "    imputeMeanWithNA(X, 'contact_number')\n",
    "    naToStr(X, cat_cols)\n",
    "    oneHotEncoding(X, cat_cols)\n",
    "    y = Xnew['timediff']\n",
    "    \n",
    "    def predmodel(X, y):\n",
    "        def testTrain(X, y):\n",
    "            return train_test_split(X, y, test_size = 0.3, random_state = 42)\n",
    "\n",
    "        X_train, X_test, y_train, y_test = testTrain(X, y)\n",
    "        model = LinearRegression().fit(X_train, y_train)\n",
    "        trainScore = model.score(X_train, y_train)\n",
    "        testScore = model.score(X_test, y_test)\n",
    "        return trainScore, testScore\n",
    "\n",
    "    trainScore, testScore = predmodel(X, y)\n",
    "    print('Train accuracy:', trainScore.round(3))\n",
    "    print('Test accuracy:', testScore.round(3))\n",
    "    return trainScore, testScore"
   ]
  },
  {
   "cell_type": "code",
   "execution_count": 27,
   "metadata": {},
   "outputs": [
    {
     "name": "stdout",
     "output_type": "stream",
     "text": [
      "================================================\n",
      "original\n",
      "(1218, 20)\n",
      "Train accuracy: 0.229\n",
      "Test accuracy: 0.036\n",
      "================================================\n",
      "\n",
      "\n",
      "================================================\n",
      "sex + age + province + suppress\n",
      "(1136, 20)\n",
      "Train accuracy: 0.164\n",
      "Test accuracy: 0.101\n",
      "================================================\n",
      "\n",
      "\n",
      "================================================\n",
      "sex + age + province + city + suppress\n",
      "(872, 20)\n"
     ]
    },
    {
     "name": "stderr",
     "output_type": "stream",
     "text": [
      "D:\\ProgramData\\lib\\site-packages\\ipykernel_launcher.py:24: SettingWithCopyWarning: \n",
      "A value is trying to be set on a copy of a slice from a DataFrame.\n",
      "Try using .loc[row_indexer,col_indexer] = value instead\n",
      "\n",
      "See the caveats in the documentation: http://pandas.pydata.org/pandas-docs/stable/user_guide/indexing.html#returning-a-view-versus-a-copy\n",
      "D:\\ProgramData\\lib\\site-packages\\pandas\\core\\indexing.py:494: SettingWithCopyWarning: \n",
      "A value is trying to be set on a copy of a slice from a DataFrame.\n",
      "Try using .loc[row_indexer,col_indexer] = value instead\n",
      "\n",
      "See the caveats in the documentation: http://pandas.pydata.org/pandas-docs/stable/user_guide/indexing.html#returning-a-view-versus-a-copy\n",
      "  self.obj[item] = s\n",
      "D:\\ProgramData\\lib\\site-packages\\pandas\\core\\frame.py:3494: SettingWithCopyWarning: \n",
      "A value is trying to be set on a copy of a slice from a DataFrame.\n",
      "Try using .loc[row_indexer,col_indexer] = value instead\n",
      "\n",
      "See the caveats in the documentation: http://pandas.pydata.org/pandas-docs/stable/user_guide/indexing.html#returning-a-view-versus-a-copy\n",
      "  self[k1] = value[k2]\n",
      "D:\\ProgramData\\lib\\site-packages\\ipykernel_launcher.py:24: SettingWithCopyWarning: \n",
      "A value is trying to be set on a copy of a slice from a DataFrame.\n",
      "Try using .loc[row_indexer,col_indexer] = value instead\n",
      "\n",
      "See the caveats in the documentation: http://pandas.pydata.org/pandas-docs/stable/user_guide/indexing.html#returning-a-view-versus-a-copy\n",
      "D:\\ProgramData\\lib\\site-packages\\pandas\\core\\indexing.py:494: SettingWithCopyWarning: \n",
      "A value is trying to be set on a copy of a slice from a DataFrame.\n",
      "Try using .loc[row_indexer,col_indexer] = value instead\n",
      "\n",
      "See the caveats in the documentation: http://pandas.pydata.org/pandas-docs/stable/user_guide/indexing.html#returning-a-view-versus-a-copy\n",
      "  self.obj[item] = s\n",
      "D:\\ProgramData\\lib\\site-packages\\pandas\\core\\frame.py:3494: SettingWithCopyWarning: \n",
      "A value is trying to be set on a copy of a slice from a DataFrame.\n",
      "Try using .loc[row_indexer,col_indexer] = value instead\n",
      "\n",
      "See the caveats in the documentation: http://pandas.pydata.org/pandas-docs/stable/user_guide/indexing.html#returning-a-view-versus-a-copy\n",
      "  self[k1] = value[k2]\n",
      "D:\\ProgramData\\lib\\site-packages\\ipykernel_launcher.py:24: SettingWithCopyWarning: \n",
      "A value is trying to be set on a copy of a slice from a DataFrame.\n",
      "Try using .loc[row_indexer,col_indexer] = value instead\n",
      "\n",
      "See the caveats in the documentation: http://pandas.pydata.org/pandas-docs/stable/user_guide/indexing.html#returning-a-view-versus-a-copy\n",
      "D:\\ProgramData\\lib\\site-packages\\pandas\\core\\indexing.py:494: SettingWithCopyWarning: \n",
      "A value is trying to be set on a copy of a slice from a DataFrame.\n",
      "Try using .loc[row_indexer,col_indexer] = value instead\n",
      "\n",
      "See the caveats in the documentation: http://pandas.pydata.org/pandas-docs/stable/user_guide/indexing.html#returning-a-view-versus-a-copy\n",
      "  self.obj[item] = s\n",
      "D:\\ProgramData\\lib\\site-packages\\pandas\\core\\frame.py:3494: SettingWithCopyWarning: \n",
      "A value is trying to be set on a copy of a slice from a DataFrame.\n",
      "Try using .loc[row_indexer,col_indexer] = value instead\n",
      "\n",
      "See the caveats in the documentation: http://pandas.pydata.org/pandas-docs/stable/user_guide/indexing.html#returning-a-view-versus-a-copy\n",
      "  self[k1] = value[k2]\n"
     ]
    },
    {
     "name": "stdout",
     "output_type": "stream",
     "text": [
      "Train accuracy: 0.155\n",
      "Test accuracy: 0.009\n",
      "================================================\n",
      "\n",
      "\n"
     ]
    }
   ],
   "source": [
    "datasets = [patient_raw, smallDF, bigDF]\n",
    "names = ['original', 'sex + age + province + suppress', 'sex + age + province + city + suppress']\n",
    "\n",
    "for i, dataset in enumerate(datasets):\n",
    "    print(\"================================================\")\n",
    "    print(names[i])\n",
    "    linear_reg(dataset, i)\n",
    "    print(\"================================================\\n\\n\")"
   ]
  }
 ],
 "metadata": {
  "kernelspec": {
   "display_name": "Python 3",
   "language": "python",
   "name": "python3"
  },
  "language_info": {
   "codemirror_mode": {
    "name": "ipython",
    "version": 3
   },
   "file_extension": ".py",
   "mimetype": "text/x-python",
   "name": "python",
   "nbconvert_exporter": "python",
   "pygments_lexer": "ipython3",
   "version": "3.7.4"
  }
 },
 "nbformat": 4,
 "nbformat_minor": 2
}
