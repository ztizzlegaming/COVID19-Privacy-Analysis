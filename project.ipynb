{
 "cells": [
  {
   "cell_type": "markdown",
   "metadata": {},
   "source": [
    "### Analysis of anonymity of data from China\n",
    "\n",
    "\n",
    "sourse: https://github.com/beoutbreakprepared/nCoV2019\n"
   ]
  },
  {
   "cell_type": "code",
   "execution_count": 251,
   "metadata": {},
   "outputs": [],
   "source": [
    "import pandas as pd\n",
    "import numpy as np\n",
    "import matplotlib.pyplot as plt\n",
    "import seaborn as sns\n",
    "\n",
    "import csv\n",
    "import operator\n",
    "\n",
    "import statsmodels.api as sm\n",
    "from sklearn.linear_model import LogisticRegression\n",
    "from sklearn.model_selection import train_test_split\n",
    "from sklearn.metrics import confusion_matrix\n",
    "from sklearn.metrics import plot_confusion_matrix"
   ]
  },
  {
   "cell_type": "code",
   "execution_count": 252,
   "metadata": {},
   "outputs": [],
   "source": [
    "# Helper functions for use later\n",
    "\n",
    "def naToStr(df, columns):\n",
    "    '''Convert the na/nan values in a pd dataframe to the string \"NaN\".'''\n",
    "    for col in columns:\n",
    "        df.loc[df[col].isna(), col] = 'NaN'\n",
    "        \n",
    "def strToNa(df, columns):\n",
    "    '''Convert the string values \"NaN\" back to actual nan'''\n",
    "    for col in columns:\n",
    "        df.loc[df[col] == 'NaN', col] = np.nan\n",
    "        \n",
    "def oneHotEncoding(df, columns):\n",
    "    '''Perform one-hot encoding for given columns'''\n",
    "    d = pd.get_dummies(df[columns], drop_first = True)\n",
    "    df[d.columns] = d\n",
    "    df.drop(columns, axis = 1, inplace = True)\n",
    "        \n",
    "def imputeMeanWithNA(df, column):\n",
    "    '''Provides one method to fix missing value for a quantitative column.\n",
    "    Creates a new 0/1 column indicating whether the original column was na/nan,\n",
    "    and imputes the mean to the original column where there were na/nan values.\n",
    "    '''\n",
    "    df[column + ' NaN'] = df[column].isna().astype(int)\n",
    "    df.loc[df[column].isna(), column] = df[column].mean()"
   ]
  },
  {
   "cell_type": "code",
   "execution_count": 161,
   "metadata": {},
   "outputs": [
    {
     "name": "stderr",
     "output_type": "stream",
     "text": [
      "/Users/qiang/opt/anaconda3/lib/python3.7/site-packages/IPython/core/interactiveshell.py:3051: DtypeWarning: Columns (1,2,9,10,12,13,14,15,16,17,19,21,22,23,24,25,26,31,32) have mixed types.Specify dtype option on import or set low_memory=False.\n",
      "  interactivity=interactivity, compiler=compiler, result=result)\n"
     ]
    }
   ],
   "source": [
    "df = pd.read_csv('latestdata.csv')"
   ]
  },
  {
   "cell_type": "code",
   "execution_count": 162,
   "metadata": {},
   "outputs": [
    {
     "data": {
      "text/html": [
       "<div>\n",
       "<style scoped>\n",
       "    .dataframe tbody tr th:only-of-type {\n",
       "        vertical-align: middle;\n",
       "    }\n",
       "\n",
       "    .dataframe tbody tr th {\n",
       "        vertical-align: top;\n",
       "    }\n",
       "\n",
       "    .dataframe thead th {\n",
       "        text-align: right;\n",
       "    }\n",
       "</style>\n",
       "<table border=\"1\" class=\"dataframe\">\n",
       "  <thead>\n",
       "    <tr style=\"text-align: right;\">\n",
       "      <th></th>\n",
       "      <th>ID</th>\n",
       "      <th>age</th>\n",
       "      <th>sex</th>\n",
       "      <th>city</th>\n",
       "      <th>province</th>\n",
       "      <th>country</th>\n",
       "      <th>latitude</th>\n",
       "      <th>longitude</th>\n",
       "      <th>geo_resolution</th>\n",
       "      <th>date_onset_symptoms</th>\n",
       "      <th>date_admission_hospital</th>\n",
       "      <th>date_confirmation</th>\n",
       "      <th>symptoms</th>\n",
       "      <th>lives_in_Wuhan</th>\n",
       "      <th>travel_history_dates</th>\n",
       "      <th>travel_history_location</th>\n",
       "      <th>reported_market_exposure</th>\n",
       "      <th>additional_information</th>\n",
       "      <th>chronic_disease_binary</th>\n",
       "      <th>chronic_disease</th>\n",
       "      <th>source</th>\n",
       "      <th>sequence_available</th>\n",
       "      <th>outcome</th>\n",
       "      <th>date_death_or_discharge</th>\n",
       "      <th>notes_for_discussion</th>\n",
       "      <th>location</th>\n",
       "      <th>admin3</th>\n",
       "      <th>admin2</th>\n",
       "      <th>admin1</th>\n",
       "      <th>country_new</th>\n",
       "      <th>admin_id</th>\n",
       "      <th>data_moderator_initials</th>\n",
       "      <th>travel_history_binary</th>\n",
       "    </tr>\n",
       "  </thead>\n",
       "  <tbody>\n",
       "    <tr>\n",
       "      <th>0</th>\n",
       "      <td>000-1-1</td>\n",
       "      <td>NaN</td>\n",
       "      <td>male</td>\n",
       "      <td>Shek Lei</td>\n",
       "      <td>Hong Kong</td>\n",
       "      <td>China</td>\n",
       "      <td>22.365019</td>\n",
       "      <td>114.133808</td>\n",
       "      <td>point</td>\n",
       "      <td>NaN</td>\n",
       "      <td>NaN</td>\n",
       "      <td>14.02.2020</td>\n",
       "      <td>NaN</td>\n",
       "      <td>NaN</td>\n",
       "      <td>22.01.2020</td>\n",
       "      <td>mainland via the Lok Ma Chau border crossing</td>\n",
       "      <td>NaN</td>\n",
       "      <td>Case 55;</td>\n",
       "      <td>False</td>\n",
       "      <td>NaN</td>\n",
       "      <td>https://www.scmp.com/news/hong-kong/health-env...</td>\n",
       "      <td>NaN</td>\n",
       "      <td>critical condition, intubated as of 14.02.2020</td>\n",
       "      <td>NaN</td>\n",
       "      <td>NaN</td>\n",
       "      <td>Shek Lei</td>\n",
       "      <td>NaN</td>\n",
       "      <td>NaN</td>\n",
       "      <td>Hong Kong</td>\n",
       "      <td>China</td>\n",
       "      <td>8051.0</td>\n",
       "      <td>NaN</td>\n",
       "      <td>NaN</td>\n",
       "    </tr>\n",
       "    <tr>\n",
       "      <th>1</th>\n",
       "      <td>000-1-10</td>\n",
       "      <td>78</td>\n",
       "      <td>male</td>\n",
       "      <td>Vo Euganeo</td>\n",
       "      <td>Veneto</td>\n",
       "      <td>Italy</td>\n",
       "      <td>45.297748</td>\n",
       "      <td>11.658382</td>\n",
       "      <td>point</td>\n",
       "      <td>NaN</td>\n",
       "      <td>NaN</td>\n",
       "      <td>21.02.2020</td>\n",
       "      <td>NaN</td>\n",
       "      <td>NaN</td>\n",
       "      <td>NaN</td>\n",
       "      <td>NaN</td>\n",
       "      <td>NaN</td>\n",
       "      <td>Hospitalized on 12.02.2020 for other reasons</td>\n",
       "      <td>False</td>\n",
       "      <td>NaN</td>\n",
       "      <td>https://www.corriere.it/cronache/20_febbraio_2...</td>\n",
       "      <td>NaN</td>\n",
       "      <td>death</td>\n",
       "      <td>22.02.2020</td>\n",
       "      <td>NaN</td>\n",
       "      <td>Vo' Euganeo</td>\n",
       "      <td>NaN</td>\n",
       "      <td>NaN</td>\n",
       "      <td>Veneto</td>\n",
       "      <td>Italy</td>\n",
       "      <td>8978.0</td>\n",
       "      <td>NaN</td>\n",
       "      <td>NaN</td>\n",
       "    </tr>\n",
       "    <tr>\n",
       "      <th>2</th>\n",
       "      <td>000-1-100</td>\n",
       "      <td>61</td>\n",
       "      <td>female</td>\n",
       "      <td>NaN</td>\n",
       "      <td>NaN</td>\n",
       "      <td>Singapore</td>\n",
       "      <td>1.353460</td>\n",
       "      <td>103.815100</td>\n",
       "      <td>admin0</td>\n",
       "      <td>NaN</td>\n",
       "      <td>NaN</td>\n",
       "      <td>14.02.2020</td>\n",
       "      <td>NaN</td>\n",
       "      <td>NaN</td>\n",
       "      <td>NaN</td>\n",
       "      <td>NaN</td>\n",
       "      <td>NaN</td>\n",
       "      <td>Case 65; family member of Case 50, a DBS emplo...</td>\n",
       "      <td>False</td>\n",
       "      <td>NaN</td>\n",
       "      <td>https://www.channelnewsasia.com/news/singapore...</td>\n",
       "      <td>NaN</td>\n",
       "      <td>discharge</td>\n",
       "      <td>17.02.2020</td>\n",
       "      <td>NaN</td>\n",
       "      <td>NaN</td>\n",
       "      <td>NaN</td>\n",
       "      <td>NaN</td>\n",
       "      <td>NaN</td>\n",
       "      <td>Singapore</td>\n",
       "      <td>201.0</td>\n",
       "      <td>NaN</td>\n",
       "      <td>NaN</td>\n",
       "    </tr>\n",
       "    <tr>\n",
       "      <th>3</th>\n",
       "      <td>000-1-1000</td>\n",
       "      <td>NaN</td>\n",
       "      <td>NaN</td>\n",
       "      <td>Zhengzhou City</td>\n",
       "      <td>Henan</td>\n",
       "      <td>China</td>\n",
       "      <td>34.629310</td>\n",
       "      <td>113.468000</td>\n",
       "      <td>admin2</td>\n",
       "      <td>NaN</td>\n",
       "      <td>NaN</td>\n",
       "      <td>26.01.2020</td>\n",
       "      <td>NaN</td>\n",
       "      <td>NaN</td>\n",
       "      <td>NaN</td>\n",
       "      <td>NaN</td>\n",
       "      <td>NaN</td>\n",
       "      <td>NaN</td>\n",
       "      <td>False</td>\n",
       "      <td>NaN</td>\n",
       "      <td>https://news.163.com/special/epidemic/?spssid=...</td>\n",
       "      <td>NaN</td>\n",
       "      <td>NaN</td>\n",
       "      <td>NaN</td>\n",
       "      <td>NaN</td>\n",
       "      <td>NaN</td>\n",
       "      <td>NaN</td>\n",
       "      <td>Zhengzhou City</td>\n",
       "      <td>Henan</td>\n",
       "      <td>China</td>\n",
       "      <td>10115.0</td>\n",
       "      <td>NaN</td>\n",
       "      <td>NaN</td>\n",
       "    </tr>\n",
       "    <tr>\n",
       "      <th>4</th>\n",
       "      <td>000-1-10000</td>\n",
       "      <td>NaN</td>\n",
       "      <td>NaN</td>\n",
       "      <td>Pingxiang City</td>\n",
       "      <td>Jiangxi</td>\n",
       "      <td>China</td>\n",
       "      <td>27.513560</td>\n",
       "      <td>113.902900</td>\n",
       "      <td>admin2</td>\n",
       "      <td>NaN</td>\n",
       "      <td>NaN</td>\n",
       "      <td>14.02.2020</td>\n",
       "      <td>NaN</td>\n",
       "      <td>NaN</td>\n",
       "      <td>NaN</td>\n",
       "      <td>NaN</td>\n",
       "      <td>NaN</td>\n",
       "      <td>NaN</td>\n",
       "      <td>False</td>\n",
       "      <td>NaN</td>\n",
       "      <td>http://hc.jiangxi.gov.cn/doc/2020/02/15/138898...</td>\n",
       "      <td>NaN</td>\n",
       "      <td>NaN</td>\n",
       "      <td>NaN</td>\n",
       "      <td>NaN</td>\n",
       "      <td>NaN</td>\n",
       "      <td>NaN</td>\n",
       "      <td>Pingxiang City</td>\n",
       "      <td>Jiangxi</td>\n",
       "      <td>China</td>\n",
       "      <td>7079.0</td>\n",
       "      <td>NaN</td>\n",
       "      <td>NaN</td>\n",
       "    </tr>\n",
       "    <tr>\n",
       "      <th>...</th>\n",
       "      <td>...</td>\n",
       "      <td>...</td>\n",
       "      <td>...</td>\n",
       "      <td>...</td>\n",
       "      <td>...</td>\n",
       "      <td>...</td>\n",
       "      <td>...</td>\n",
       "      <td>...</td>\n",
       "      <td>...</td>\n",
       "      <td>...</td>\n",
       "      <td>...</td>\n",
       "      <td>...</td>\n",
       "      <td>...</td>\n",
       "      <td>...</td>\n",
       "      <td>...</td>\n",
       "      <td>...</td>\n",
       "      <td>...</td>\n",
       "      <td>...</td>\n",
       "      <td>...</td>\n",
       "      <td>...</td>\n",
       "      <td>...</td>\n",
       "      <td>...</td>\n",
       "      <td>...</td>\n",
       "      <td>...</td>\n",
       "      <td>...</td>\n",
       "      <td>...</td>\n",
       "      <td>...</td>\n",
       "      <td>...</td>\n",
       "      <td>...</td>\n",
       "      <td>...</td>\n",
       "      <td>...</td>\n",
       "      <td>...</td>\n",
       "      <td>...</td>\n",
       "    </tr>\n",
       "    <tr>\n",
       "      <th>442310</th>\n",
       "      <td>007-99995</td>\n",
       "      <td>NaN</td>\n",
       "      <td>NaN</td>\n",
       "      <td>Milano</td>\n",
       "      <td>Lombardia</td>\n",
       "      <td>Italy</td>\n",
       "      <td>45.465890</td>\n",
       "      <td>9.121072</td>\n",
       "      <td>admin2</td>\n",
       "      <td>NaN</td>\n",
       "      <td>NaN</td>\n",
       "      <td>30.03.2020</td>\n",
       "      <td>NaN</td>\n",
       "      <td>NaN</td>\n",
       "      <td>NaN</td>\n",
       "      <td>NaN</td>\n",
       "      <td>NaN</td>\n",
       "      <td>NaN</td>\n",
       "      <td>False</td>\n",
       "      <td>NaN</td>\n",
       "      <td>https://raw.githubusercontent.com/pcm-dpc/COVI...</td>\n",
       "      <td>NaN</td>\n",
       "      <td>NaN</td>\n",
       "      <td>NaN</td>\n",
       "      <td>NaN</td>\n",
       "      <td>NaN</td>\n",
       "      <td>NaN</td>\n",
       "      <td>Milano</td>\n",
       "      <td>Lombardia</td>\n",
       "      <td>Italy</td>\n",
       "      <td>6195.0</td>\n",
       "      <td>TR</td>\n",
       "      <td>False</td>\n",
       "    </tr>\n",
       "    <tr>\n",
       "      <th>442311</th>\n",
       "      <td>007-99996</td>\n",
       "      <td>NaN</td>\n",
       "      <td>NaN</td>\n",
       "      <td>Milano</td>\n",
       "      <td>Lombardia</td>\n",
       "      <td>Italy</td>\n",
       "      <td>45.465890</td>\n",
       "      <td>9.121072</td>\n",
       "      <td>admin2</td>\n",
       "      <td>NaN</td>\n",
       "      <td>NaN</td>\n",
       "      <td>30.03.2020</td>\n",
       "      <td>NaN</td>\n",
       "      <td>NaN</td>\n",
       "      <td>NaN</td>\n",
       "      <td>NaN</td>\n",
       "      <td>NaN</td>\n",
       "      <td>NaN</td>\n",
       "      <td>False</td>\n",
       "      <td>NaN</td>\n",
       "      <td>https://raw.githubusercontent.com/pcm-dpc/COVI...</td>\n",
       "      <td>NaN</td>\n",
       "      <td>NaN</td>\n",
       "      <td>NaN</td>\n",
       "      <td>NaN</td>\n",
       "      <td>NaN</td>\n",
       "      <td>NaN</td>\n",
       "      <td>Milano</td>\n",
       "      <td>Lombardia</td>\n",
       "      <td>Italy</td>\n",
       "      <td>6195.0</td>\n",
       "      <td>TR</td>\n",
       "      <td>False</td>\n",
       "    </tr>\n",
       "    <tr>\n",
       "      <th>442312</th>\n",
       "      <td>007-99997</td>\n",
       "      <td>NaN</td>\n",
       "      <td>NaN</td>\n",
       "      <td>Milano</td>\n",
       "      <td>Lombardia</td>\n",
       "      <td>Italy</td>\n",
       "      <td>45.465890</td>\n",
       "      <td>9.121072</td>\n",
       "      <td>admin2</td>\n",
       "      <td>NaN</td>\n",
       "      <td>NaN</td>\n",
       "      <td>30.03.2020</td>\n",
       "      <td>NaN</td>\n",
       "      <td>NaN</td>\n",
       "      <td>NaN</td>\n",
       "      <td>NaN</td>\n",
       "      <td>NaN</td>\n",
       "      <td>NaN</td>\n",
       "      <td>False</td>\n",
       "      <td>NaN</td>\n",
       "      <td>https://raw.githubusercontent.com/pcm-dpc/COVI...</td>\n",
       "      <td>NaN</td>\n",
       "      <td>NaN</td>\n",
       "      <td>NaN</td>\n",
       "      <td>NaN</td>\n",
       "      <td>NaN</td>\n",
       "      <td>NaN</td>\n",
       "      <td>Milano</td>\n",
       "      <td>Lombardia</td>\n",
       "      <td>Italy</td>\n",
       "      <td>6195.0</td>\n",
       "      <td>TR</td>\n",
       "      <td>False</td>\n",
       "    </tr>\n",
       "    <tr>\n",
       "      <th>442313</th>\n",
       "      <td>007-99998</td>\n",
       "      <td>NaN</td>\n",
       "      <td>NaN</td>\n",
       "      <td>Milano</td>\n",
       "      <td>Lombardia</td>\n",
       "      <td>Italy</td>\n",
       "      <td>45.465890</td>\n",
       "      <td>9.121072</td>\n",
       "      <td>admin2</td>\n",
       "      <td>NaN</td>\n",
       "      <td>NaN</td>\n",
       "      <td>30.03.2020</td>\n",
       "      <td>NaN</td>\n",
       "      <td>NaN</td>\n",
       "      <td>NaN</td>\n",
       "      <td>NaN</td>\n",
       "      <td>NaN</td>\n",
       "      <td>NaN</td>\n",
       "      <td>False</td>\n",
       "      <td>NaN</td>\n",
       "      <td>https://raw.githubusercontent.com/pcm-dpc/COVI...</td>\n",
       "      <td>NaN</td>\n",
       "      <td>NaN</td>\n",
       "      <td>NaN</td>\n",
       "      <td>NaN</td>\n",
       "      <td>NaN</td>\n",
       "      <td>NaN</td>\n",
       "      <td>Milano</td>\n",
       "      <td>Lombardia</td>\n",
       "      <td>Italy</td>\n",
       "      <td>6195.0</td>\n",
       "      <td>TR</td>\n",
       "      <td>False</td>\n",
       "    </tr>\n",
       "    <tr>\n",
       "      <th>442314</th>\n",
       "      <td>007-99999</td>\n",
       "      <td>NaN</td>\n",
       "      <td>NaN</td>\n",
       "      <td>Milano</td>\n",
       "      <td>Lombardia</td>\n",
       "      <td>Italy</td>\n",
       "      <td>45.465890</td>\n",
       "      <td>9.121072</td>\n",
       "      <td>admin2</td>\n",
       "      <td>NaN</td>\n",
       "      <td>NaN</td>\n",
       "      <td>30.03.2020</td>\n",
       "      <td>NaN</td>\n",
       "      <td>NaN</td>\n",
       "      <td>NaN</td>\n",
       "      <td>NaN</td>\n",
       "      <td>NaN</td>\n",
       "      <td>NaN</td>\n",
       "      <td>False</td>\n",
       "      <td>NaN</td>\n",
       "      <td>https://raw.githubusercontent.com/pcm-dpc/COVI...</td>\n",
       "      <td>NaN</td>\n",
       "      <td>NaN</td>\n",
       "      <td>NaN</td>\n",
       "      <td>NaN</td>\n",
       "      <td>NaN</td>\n",
       "      <td>NaN</td>\n",
       "      <td>Milano</td>\n",
       "      <td>Lombardia</td>\n",
       "      <td>Italy</td>\n",
       "      <td>6195.0</td>\n",
       "      <td>TR</td>\n",
       "      <td>False</td>\n",
       "    </tr>\n",
       "  </tbody>\n",
       "</table>\n",
       "<p>442315 rows × 33 columns</p>\n",
       "</div>"
      ],
      "text/plain": [
       "                 ID  age     sex            city   province    country  \\\n",
       "0           000-1-1  NaN    male        Shek Lei  Hong Kong      China   \n",
       "1          000-1-10   78    male      Vo Euganeo     Veneto      Italy   \n",
       "2         000-1-100   61  female             NaN        NaN  Singapore   \n",
       "3        000-1-1000  NaN     NaN  Zhengzhou City      Henan      China   \n",
       "4       000-1-10000  NaN     NaN  Pingxiang City    Jiangxi      China   \n",
       "...             ...  ...     ...             ...        ...        ...   \n",
       "442310    007-99995  NaN     NaN          Milano  Lombardia      Italy   \n",
       "442311    007-99996  NaN     NaN          Milano  Lombardia      Italy   \n",
       "442312    007-99997  NaN     NaN          Milano  Lombardia      Italy   \n",
       "442313    007-99998  NaN     NaN          Milano  Lombardia      Italy   \n",
       "442314    007-99999  NaN     NaN          Milano  Lombardia      Italy   \n",
       "\n",
       "         latitude   longitude geo_resolution date_onset_symptoms  \\\n",
       "0       22.365019  114.133808          point                 NaN   \n",
       "1       45.297748   11.658382          point                 NaN   \n",
       "2        1.353460  103.815100         admin0                 NaN   \n",
       "3       34.629310  113.468000         admin2                 NaN   \n",
       "4       27.513560  113.902900         admin2                 NaN   \n",
       "...           ...         ...            ...                 ...   \n",
       "442310  45.465890    9.121072         admin2                 NaN   \n",
       "442311  45.465890    9.121072         admin2                 NaN   \n",
       "442312  45.465890    9.121072         admin2                 NaN   \n",
       "442313  45.465890    9.121072         admin2                 NaN   \n",
       "442314  45.465890    9.121072         admin2                 NaN   \n",
       "\n",
       "       date_admission_hospital date_confirmation symptoms lives_in_Wuhan  \\\n",
       "0                          NaN        14.02.2020      NaN            NaN   \n",
       "1                          NaN        21.02.2020      NaN            NaN   \n",
       "2                          NaN        14.02.2020      NaN            NaN   \n",
       "3                          NaN        26.01.2020      NaN            NaN   \n",
       "4                          NaN        14.02.2020      NaN            NaN   \n",
       "...                        ...               ...      ...            ...   \n",
       "442310                     NaN        30.03.2020      NaN            NaN   \n",
       "442311                     NaN        30.03.2020      NaN            NaN   \n",
       "442312                     NaN        30.03.2020      NaN            NaN   \n",
       "442313                     NaN        30.03.2020      NaN            NaN   \n",
       "442314                     NaN        30.03.2020      NaN            NaN   \n",
       "\n",
       "       travel_history_dates                       travel_history_location  \\\n",
       "0                22.01.2020  mainland via the Lok Ma Chau border crossing   \n",
       "1                       NaN                                           NaN   \n",
       "2                       NaN                                           NaN   \n",
       "3                       NaN                                           NaN   \n",
       "4                       NaN                                           NaN   \n",
       "...                     ...                                           ...   \n",
       "442310                  NaN                                           NaN   \n",
       "442311                  NaN                                           NaN   \n",
       "442312                  NaN                                           NaN   \n",
       "442313                  NaN                                           NaN   \n",
       "442314                  NaN                                           NaN   \n",
       "\n",
       "       reported_market_exposure  \\\n",
       "0                           NaN   \n",
       "1                           NaN   \n",
       "2                           NaN   \n",
       "3                           NaN   \n",
       "4                           NaN   \n",
       "...                         ...   \n",
       "442310                      NaN   \n",
       "442311                      NaN   \n",
       "442312                      NaN   \n",
       "442313                      NaN   \n",
       "442314                      NaN   \n",
       "\n",
       "                                   additional_information  \\\n",
       "0                                                Case 55;   \n",
       "1            Hospitalized on 12.02.2020 for other reasons   \n",
       "2       Case 65; family member of Case 50, a DBS emplo...   \n",
       "3                                                     NaN   \n",
       "4                                                     NaN   \n",
       "...                                                   ...   \n",
       "442310                                                NaN   \n",
       "442311                                                NaN   \n",
       "442312                                                NaN   \n",
       "442313                                                NaN   \n",
       "442314                                                NaN   \n",
       "\n",
       "        chronic_disease_binary chronic_disease  \\\n",
       "0                        False             NaN   \n",
       "1                        False             NaN   \n",
       "2                        False             NaN   \n",
       "3                        False             NaN   \n",
       "4                        False             NaN   \n",
       "...                        ...             ...   \n",
       "442310                   False             NaN   \n",
       "442311                   False             NaN   \n",
       "442312                   False             NaN   \n",
       "442313                   False             NaN   \n",
       "442314                   False             NaN   \n",
       "\n",
       "                                                   source sequence_available  \\\n",
       "0       https://www.scmp.com/news/hong-kong/health-env...                NaN   \n",
       "1       https://www.corriere.it/cronache/20_febbraio_2...                NaN   \n",
       "2       https://www.channelnewsasia.com/news/singapore...                NaN   \n",
       "3       https://news.163.com/special/epidemic/?spssid=...                NaN   \n",
       "4       http://hc.jiangxi.gov.cn/doc/2020/02/15/138898...                NaN   \n",
       "...                                                   ...                ...   \n",
       "442310  https://raw.githubusercontent.com/pcm-dpc/COVI...                NaN   \n",
       "442311  https://raw.githubusercontent.com/pcm-dpc/COVI...                NaN   \n",
       "442312  https://raw.githubusercontent.com/pcm-dpc/COVI...                NaN   \n",
       "442313  https://raw.githubusercontent.com/pcm-dpc/COVI...                NaN   \n",
       "442314  https://raw.githubusercontent.com/pcm-dpc/COVI...                NaN   \n",
       "\n",
       "                                               outcome  \\\n",
       "0       critical condition, intubated as of 14.02.2020   \n",
       "1                                                death   \n",
       "2                                            discharge   \n",
       "3                                                  NaN   \n",
       "4                                                  NaN   \n",
       "...                                                ...   \n",
       "442310                                             NaN   \n",
       "442311                                             NaN   \n",
       "442312                                             NaN   \n",
       "442313                                             NaN   \n",
       "442314                                             NaN   \n",
       "\n",
       "       date_death_or_discharge notes_for_discussion     location admin3  \\\n",
       "0                          NaN                  NaN     Shek Lei    NaN   \n",
       "1                   22.02.2020                  NaN  Vo' Euganeo    NaN   \n",
       "2                   17.02.2020                  NaN          NaN    NaN   \n",
       "3                          NaN                  NaN          NaN    NaN   \n",
       "4                          NaN                  NaN          NaN    NaN   \n",
       "...                        ...                  ...          ...    ...   \n",
       "442310                     NaN                  NaN          NaN    NaN   \n",
       "442311                     NaN                  NaN          NaN    NaN   \n",
       "442312                     NaN                  NaN          NaN    NaN   \n",
       "442313                     NaN                  NaN          NaN    NaN   \n",
       "442314                     NaN                  NaN          NaN    NaN   \n",
       "\n",
       "                admin2     admin1 country_new  admin_id  \\\n",
       "0                  NaN  Hong Kong       China    8051.0   \n",
       "1                  NaN     Veneto       Italy    8978.0   \n",
       "2                  NaN        NaN   Singapore     201.0   \n",
       "3       Zhengzhou City      Henan       China   10115.0   \n",
       "4       Pingxiang City    Jiangxi       China    7079.0   \n",
       "...                ...        ...         ...       ...   \n",
       "442310          Milano  Lombardia       Italy    6195.0   \n",
       "442311          Milano  Lombardia       Italy    6195.0   \n",
       "442312          Milano  Lombardia       Italy    6195.0   \n",
       "442313          Milano  Lombardia       Italy    6195.0   \n",
       "442314          Milano  Lombardia       Italy    6195.0   \n",
       "\n",
       "       data_moderator_initials travel_history_binary  \n",
       "0                          NaN                   NaN  \n",
       "1                          NaN                   NaN  \n",
       "2                          NaN                   NaN  \n",
       "3                          NaN                   NaN  \n",
       "4                          NaN                   NaN  \n",
       "...                        ...                   ...  \n",
       "442310                      TR                 False  \n",
       "442311                      TR                 False  \n",
       "442312                      TR                 False  \n",
       "442313                      TR                 False  \n",
       "442314                      TR                 False  \n",
       "\n",
       "[442315 rows x 33 columns]"
      ]
     },
     "execution_count": 162,
     "metadata": {},
     "output_type": "execute_result"
    }
   ],
   "source": [
    "pd.set_option('display.max_columns', None)\n",
    "df"
   ]
  },
  {
   "cell_type": "markdown",
   "metadata": {},
   "source": [
    "Note: I tried to detect corrupted data here, but while the codes we used in pset3 detect corrupted lines, they don't seem like so when further examined. Thus, I didn't include the part doing corryption detection here.\n"
   ]
  },
  {
   "cell_type": "markdown",
   "metadata": {},
   "source": [
    "#### Here we want to change the dates to date objects\n",
    "\n",
    "Since here the dates are listed in day-month-year order, we need to adjust them a bit. Also, some dates are listed as a range, in which case we take the first date in the range."
   ]
  },
  {
   "cell_type": "code",
   "execution_count": 163,
   "metadata": {},
   "outputs": [],
   "source": [
    "date_confirmation_new  =[]\n",
    "for i in df.date_confirmation:\n",
    "    dd = str(i)\n",
    "    if len(dd) == 3:\n",
    "        date_confirmation_new.append(np.NaN)\n",
    "    else:\n",
    "        date_confirmation_new.append(dd[3:5]+'.'+dd[0:2]+dd[5:10])\n",
    "\n",
    "df['date_confirmation_new'] = date_confirmation_new\n",
    "df['date_confirmation_new'] = pd.DatetimeIndex(df['date_confirmation_new'])\n",
    "\n",
    "\n",
    "date_admission_hospital  =[]\n",
    "for i in df.date_admission_hospital:\n",
    "    dd = str(i)\n",
    "    if len(dd) == 3:\n",
    "        date_admission_hospital.append(np.NaN)\n",
    "    else:\n",
    "        date_admission_hospital.append(dd[3:5]+'.'+dd[0:2]+dd[5:10])\n",
    "\n",
    "df['date_admission_hospital_new'] = date_admission_hospital\n",
    "df['date_admission_hospital_new'] = pd.DatetimeIndex(df['date_admission_hospital_new'])\n",
    "\n"
   ]
  },
  {
   "cell_type": "code",
   "execution_count": 164,
   "metadata": {},
   "outputs": [
    {
     "name": "stderr",
     "output_type": "stream",
     "text": [
      "/Users/qiang/opt/anaconda3/lib/python3.7/site-packages/ipykernel_launcher.py:7: SettingWithCopyWarning: \n",
      "A value is trying to be set on a copy of a slice from a DataFrame\n",
      "\n",
      "See the caveats in the documentation: https://pandas.pydata.org/pandas-docs/stable/user_guide/indexing.html#returning-a-view-versus-a-copy\n",
      "  import sys\n"
     ]
    }
   ],
   "source": [
    "l = []\n",
    "for i in df['date_onset_symptoms']:\n",
    "    l.append(len(str(i)))\n",
    "    \n",
    "ind = [i != 3 and i != 10 and i!=23and i!=11  for i in l]\n",
    "#we see that the only one with problem is row 3483\n",
    "df['date_onset_symptoms'][3483] = '20.05.2020'"
   ]
  },
  {
   "cell_type": "code",
   "execution_count": 165,
   "metadata": {},
   "outputs": [],
   "source": [
    "date_onset_symptoms  =[]\n",
    "for i in df.date_onset_symptoms:\n",
    "    dd = str(i)\n",
    "    if len(dd) == 3:\n",
    "        date_onset_symptoms.append(np.NaN)\n",
    "    else:\n",
    "        date_onset_symptoms.append(dd[3:5]+'.'+dd[0:2]+dd[5:10])\n",
    "\n",
    "df['date_onset_symptoms_new'] = date_onset_symptoms\n",
    "df['date_onset_symptoms_new'] = pd.DatetimeIndex(df['date_onset_symptoms_new'])\n"
   ]
  },
  {
   "cell_type": "markdown",
   "metadata": {},
   "source": [
    "Now we can look at the distribution of data"
   ]
  },
  {
   "cell_type": "code",
   "execution_count": 203,
   "metadata": {},
   "outputs": [],
   "source": [
    "country = []\n",
    "dates_confirm = []\n",
    "ncase = []\n",
    "\n",
    "for c,dfff in df.groupby('country'):\n",
    "    country.append(c)\n",
    "    dates_confirm.append(dfff)\n",
    "    ncase.append(len(dfff))\n",
    "    \n",
    "neworder = np.argsort(ncase)[::-1]\n",
    "country = [country[i] for i in neworder]\n",
    "dates_confirm = [dates_confirm[i] for i in neworder] \n",
    "ncase = [ncase[i] for i in neworder] \n"
   ]
  },
  {
   "cell_type": "code",
   "execution_count": 230,
   "metadata": {},
   "outputs": [
    {
     "data": {
      "text/plain": [
       "37"
      ]
     },
     "execution_count": 230,
     "metadata": {},
     "output_type": "execute_result"
    }
   ],
   "source": [
    "ncase[59] # this print out the number of cases confirmed in India in this dataset"
   ]
  },
  {
   "cell_type": "code",
   "execution_count": 231,
   "metadata": {},
   "outputs": [
    {
     "data": {
      "image/png": "[encoded data removed]",
      "text/plain": [
       "<Figure size 1440x576 with 1 Axes>"
      ]
     },
     "metadata": {
      "needs_background": "light"
     },
     "output_type": "display_data"
    }
   ],
   "source": [
    "p_num = 4\n",
    "colors = ['green','orange','brown','dodgerblue','red']\n",
    "legends = [str(country[i]) + ': ' + str(ncase[i])+' cases' for i in range(len(country))]\n",
    "plt.figure(figsize = [20,8])\n",
    "for i in range(p_num):\n",
    "    plt.hist(dates_confirm[i]['date_confirmation_new'],bins = 30,alpha = .5,color = colors[i])\n",
    "plt.legend(legends[:p_num])\n",
    "plt.xlabel('Date')\n",
    "plt.ylabel('Count')\n",
    "_ = plt.title('New confirmed cases vs time',size = 20)"
   ]
  },
  {
   "cell_type": "code",
   "execution_count": 236,
   "metadata": {},
   "outputs": [
    {
     "data": {
      "text/plain": [
       "Timestamp('2020-04-12 00:00:00')"
      ]
     },
     "execution_count": 236,
     "metadata": {},
     "output_type": "execute_result"
    }
   ],
   "source": [
    "max(dates_confirm[0]['date_confirmation_new'])"
   ]
  },
  {
   "cell_type": "markdown",
   "metadata": {},
   "source": [
    "Here we print out the confirmed dates for the 4 countries with most data points. We can see that the updates for each contry continue to a different date. We will for now concentrate on the confirmed cases in China, but might work on data from other countries too.\n",
    "\n",
    "Notice that The dataset contains 117,996 cases for United States. Given that the latest date for confirmed case in the dataset is '2020-03-29' and from https://covidtracking.com/data/us-daily we see that there are in total 144,369 confirmed cases in United States, we know that the dataset contains a reasonable large amount of data here.\n",
    "\n",
    "Also, we have 158,004 data points for Italy. Given that the latest date for confirmed case in the dataset is '2020-04-12' and from https://coronavirus.1point3acres.com/zh/world we see that there are in total 159,516 confirmed cases in Italy, we know that the dataset contains a reasonable large amount of data here.\n",
    "\n",
    "\n",
    "At this point, we will focus on Chinese data only. As the dates are transfered properly. We keep the other variables unachanged for now and want to examine the distribution of data a little bit.\n"
   ]
  },
  {
   "cell_type": "code",
   "execution_count": 356,
   "metadata": {},
   "outputs": [],
   "source": [
    "dfc = dates_confirm[2]\n",
    "dfc=dfc.reset_index(drop = True)"
   ]
  },
  {
   "cell_type": "code",
   "execution_count": 310,
   "metadata": {},
   "outputs": [
    {
     "name": "stdout",
     "output_type": "stream",
     "text": [
      "There are  667 sourses from which the data are collected.\n"
     ]
    }
   ],
   "source": [
    "print('There are ', len(dfc.source.unique()),'sourses from which the data are collected.')"
   ]
  },
  {
   "cell_type": "code",
   "execution_count": 311,
   "metadata": {},
   "outputs": [
    {
     "data": {
      "text/plain": [
       "Timestamp('2020-03-09 00:00:00')"
      ]
     },
     "execution_count": 311,
     "metadata": {},
     "output_type": "execute_result"
    }
   ],
   "source": [
    "max(dates_confirm[2]['date_confirmation_new'])"
   ]
  },
  {
   "cell_type": "markdown",
   "metadata": {},
   "source": [
    "From http://weekly.chinacdc.cn/news/TrackingtheEpidemic.htm we see that there are 80,735 total confirmed cases till 2020-03-09, which is the lated confimed date for Chinese cases that we see in this dataset. As we have 42,334 data points for Chinese data, we still have a large amount of data points here. \n",
    "\n",
    "As explaned in the paper introducing this data set: various data sourses were used to collect data here and additional information was found through online reports, mainly news aggregators. Though there are much more confirmed cases in China, they don't contain individual level information as detailed as this one. We would thus concentrate on this dataset.\n",
    " \n",
    "Before we start our analysis, we would also clean up dataset a little bit. While we still keep all columns in case that some might be used later, we want to repair some values from important columns that we will use later.\n"
   ]
  },
  {
   "cell_type": "code",
   "execution_count": 381,
   "metadata": {},
   "outputs": [
    {
     "data": {
      "text/plain": [
       "array([nan, '66', '27', '17', '51', '68', '26', '30', '53', '35', '28',\n",
       "       '58', '33', '50', '45', '24', '88', '29', '21', '78', '52', '60',\n",
       "       '82', '7', '44', '69', '16', '47', '8', '43', '10', '55', '25',\n",
       "       '38', '42', '34', '62', '39', '65', '73', '48', '54', '46', '96',\n",
       "       '32', '63', '64', '1.75', '57', '41', '20', '36', '80', '70', '61',\n",
       "       '56', '37', '75', '94', '1', '0.25', '22', '67', '15', '79', '23',\n",
       "       '49', '40', '59', '31', '76', '40-49', '71', '87', '4', '2',\n",
       "       '22-80', '5', '19-77', '21-72', '3', '77', '72', '16-80', '74',\n",
       "       '23-72', '19', '81', '0.58333', '9', '0.08333', '12', '83',\n",
       "       '36-45', '11', '84', '8-68', '50-59', '60-69', '70-82', '25-89',\n",
       "       '85', '15-88', '89', '86', '21-39'], dtype=object)"
      ]
     },
     "execution_count": 381,
     "metadata": {},
     "output_type": "execute_result"
    }
   ],
   "source": [
    "dfc.age.unique()"
   ]
  },
  {
   "cell_type": "code",
   "execution_count": 395,
   "metadata": {},
   "outputs": [],
   "source": [
    "dfc.loc[dfc['age'] == '0.25', 'age'] = '25'\n",
    "dfc.loc[dfc['age'] == '0.58333', 'age'] = '58'\n",
    "dfc.loc[dfc['age'] == '0.08333', 'age'] = '8'\n",
    "dfc.loc[dfc['age'] == '1.75', 'age'] = np.NaN"
   ]
  },
  {
   "cell_type": "markdown",
   "metadata": {},
   "source": [
    "## Exploratory Data Analysis\n",
    "\n",
    "Below, we do some initial exploratory data analysis on the dataset. \n",
    "\n",
    "### 1.outcomes"
   ]
  },
  {
   "cell_type": "code",
   "execution_count": null,
   "metadata": {},
   "outputs": [],
   "source": [
    "du = dfc['outcome'].unique()\n",
    "du"
   ]
  },
  {
   "cell_type": "code",
   "execution_count": 259,
   "metadata": {},
   "outputs": [],
   "source": [
    "dfc.loc[dfc.outcome == du[0],'outcome'] = np.NaN\n",
    "dfc.loc[dfc.outcome == 'discharge','outcome'] = 'discharged'\n",
    "dfc.loc[dfc.outcome == 'death','outcome'] = 'died'"
   ]
  },
  {
   "cell_type": "code",
   "execution_count": 260,
   "metadata": {},
   "outputs": [
    {
     "name": "stdout",
     "output_type": "stream",
     "text": [
      "[nan 'discharged' 'died' 'stable']\n"
     ]
    },
    {
     "data": {
      "text/plain": [
       "Text(0.5, 1.0, 'Distribution of Patient Status')"
      ]
     },
     "execution_count": 260,
     "metadata": {},
     "output_type": "execute_result"
    },
    {
     "data": {
      "image/png": "[encoded data removed]",
      "text/plain": [
       "<Figure size 720x504 with 1 Axes>"
      ]
     },
     "metadata": {
      "needs_background": "light"
     },
     "output_type": "display_data"
    }
   ],
   "source": [
    "print(dfc['outcome'].unique())\n",
    "plt.figure(figsize = [10,7])\n",
    "plt.hist(dfc['outcome'].dropna())\n",
    "plt.ylabel('Count')\n",
    "plt.title('Distribution of Patient Status')"
   ]
  },
  {
   "cell_type": "markdown",
   "metadata": {},
   "source": [
    "First, we simply look at the distribution of patient status. As 'stable' indicates a status more close to 'dischaged', we seem to have more cases that are likely discharged here. However, it seems that we have only a very small number of cases with known outcome, which makes sense as these data are more searched on an indivudual case and it would be hard to list number of distcharged/dead to the orginial dates when they are confirmed. \n",
    "\n",
    "However, from http://weekly.chinacdc.cn/news/TrackingtheEpidemic.htm we see that untl March 9th, there are in total 3,119 cases died and 58,600 cases recovered, where the deaths really constitude a very small portion of the real outcomes, we can say that the ratio shown in the graph is not representative.\n",
    "\n",
    "### 2.age\n",
    "preprocessing: as we examine the age data, we find that some values appear in range, and there are also two values below 1 which we don't know how to interepret, Thus, we fill the range with the middle value in the given age range and fill nan to values that we don't understand."
   ]
  },
  {
   "cell_type": "code",
   "execution_count": 314,
   "metadata": {},
   "outputs": [
    {
     "data": {
      "text/plain": [
       "0        NaN\n",
       "3        NaN\n",
       "4        NaN\n",
       "5        NaN\n",
       "6        NaN\n",
       "        ... \n",
       "98856    NaN\n",
       "98857    NaN\n",
       "98858    NaN\n",
       "98859    NaN\n",
       "98860    NaN\n",
       "Name: age, Length: 42334, dtype: object"
      ]
     },
     "execution_count": 314,
     "metadata": {},
     "output_type": "execute_result"
    }
   ],
   "source": [
    "dfc_age"
   ]
  },
  {
   "cell_type": "code",
   "execution_count": 324,
   "metadata": {
    "scrolled": false
   },
   "outputs": [],
   "source": [
    "dfc_age = dfc['age'].copy()\n",
    "for i in range(len(dfc_age)):\n",
    "    if len(str(dfc_age[i])) >2:\n",
    "        agee = str(dfc_age[i])\n",
    "        if len(agee)==5:\n",
    "            a = int(agee[:2])\n",
    "            b = int(agee[3:5])\n",
    "            if b-a >30:#when the age range is too large and imputing values might create bias\n",
    "                dfc_age[i] = np.NaN\n",
    "            else:#else we randomly choose a value in the range\n",
    "                   dfc_age[i] = np.random.randint(a,b)\n",
    "        else:#else the value is not interpretable\n",
    "            dfc_age[i] = np.NaN\n",
    "    else:\n",
    "        dfc_age[i] = int(dfc_age[i])"
   ]
  },
  {
   "cell_type": "code",
   "execution_count": 342,
   "metadata": {},
   "outputs": [
    {
     "data": {
      "text/plain": [
       "<matplotlib.legend.Legend at 0x1a67e46710>"
      ]
     },
     "execution_count": 342,
     "metadata": {},
     "output_type": "execute_result"
    },
    {
     "data": {
      "image/png": "[encoded data removed]",
      "text/plain": [
       "<Figure size 1152x360 with 2 Axes>"
      ]
     },
     "metadata": {
      "needs_background": "light"
     },
     "output_type": "display_data"
    }
   ],
   "source": [
    "plt.figure(figsize = (16, 5))\n",
    "\n",
    "\n",
    "plt.subplot(1, 2, 1)\n",
    "plt.hist(dfc_age.dropna())\n",
    "plt.xlabel('Age')\n",
    "plt.ylabel('Count')\n",
    "plt.title('Overall Age Distribution')\n",
    "\n",
    "plt.subplot(1, 2, 2)\n",
    "plt.hist(dfc_age[dfc['outcome'] == 'discharged'].dropna(), alpha = 0.6)\n",
    "plt.hist(dfc_age[dfc['outcome'] == 'stable'].dropna(), alpha = 0.4)\n",
    "plt.hist(dfc_age[dfc['outcome'] == 'died'].dropna(), alpha = 0.4)\n",
    "plt.xlabel('Age')\n",
    "plt.ylabel('Count')\n",
    "plt.title('Age Distribution Based on Recovered/Deceased')\n",
    "plt.legend(['discharged','stable', 'died'])"
   ]
  },
  {
   "cell_type": "markdown",
   "metadata": {},
   "source": [
    "Next, we look at the distribution of age. We look at both the overall distribution of the dataset, as well as the difference in the distributions for individuals that have recovered and that died. We see that the ages have the highest frequency between about 40 and 70. We also see hard proof that the virus is more deadly to older people. We see a clear difference between the age of individuals who have recovered and who died. \n",
    "\n",
    "(Notice that though the data on the right constitutes only a small portion of the whole dataset, we still believe it captures the trend, especially as it shows the same trend as in other datasets. We might do a t-test to further validate our finding.)\n",
    "\n",
    "\n",
    "### 3.gender"
   ]
  },
  {
   "cell_type": "code",
   "execution_count": 344,
   "metadata": {},
   "outputs": [
    {
     "data": {
      "text/plain": [
       "array(['male', nan, 'female'], dtype=object)"
      ]
     },
     "execution_count": 344,
     "metadata": {},
     "output_type": "execute_result"
    }
   ],
   "source": [
    "dfc['sex'].unique()"
   ]
  },
  {
   "cell_type": "code",
   "execution_count": 353,
   "metadata": {},
   "outputs": [
    {
     "data": {
      "text/plain": [
       "<seaborn.axisgrid.FacetGrid at 0x1a6a7afd90>"
      ]
     },
     "execution_count": 353,
     "metadata": {},
     "output_type": "execute_result"
    },
    {
     "data": {
      "image/png": "[encoded data removed]",
      "text/plain": [
       "<Figure size 576x360 with 1 Axes>"
      ]
     },
     "metadata": {},
     "output_type": "display_data"
    },
    {
     "data": {
      "image/png": "[encoded data removed]",
      "text/plain": [
       "<Figure size 504.85x432 with 1 Axes>"
      ]
     },
     "metadata": {},
     "output_type": "display_data"
    }
   ],
   "source": [
    "# There is one row where gender = 'W', I'll just ignore this\n",
    "genderMale = np.sum(dfc['sex'] == 'male')\n",
    "genderFemale = np.sum(dfc['sex'] == 'female')\n",
    "genderNA = np.sum(dfc['sex'].isna())\n",
    "\n",
    "plt.figure(figsize = (8, 5))\n",
    "\n",
    "plt.bar(['Male', 'Female', 'NA'], [genderMale, genderFemale, genderNA])\n",
    "plt.ylabel('Count')\n",
    "plt.title('Distribution of Gender')\n",
    "\n",
    "\n",
    "sns.set(style=\"whitegrid\")\n",
    "g = sns.catplot(x=\"outcome\", kind=\"count\", hue=\"sex\", data=dfc,\n",
    "                height=6, palette=\"muted\")\n",
    "g.despine(left=True)\n",
    "g.set_ylabels(\"State histogram for different genders\")\n",
    "\n"
   ]
  },
  {
   "cell_type": "markdown",
   "metadata": {},
   "source": [
    "We also don't have lots of gender information, and from the collected data there doesn't seem to be a large difference between the outcomes for different genders. (These differences don't seem significant.)\n",
    "\n",
    "## Anonymity and Privacy\n",
    "\n",
    "Next, we analyze the $k$-anonymity of the dataset. We see that These data have a unique identifier which is `ID`, and also some quasi-identifiers including:\n",
    "\n",
    "* age (this is the unadjusted age, containing both years and ranges)\n",
    "* sex\n",
    "* city/province (There are around 300 na values for cities, and no na value for province)\n",
    "* admin_id ( Administrative unit ID of the lowest level available for the case reported)\n",
    "\n",
    "\n",
    "In theory, these could be used to match an individual here to another dataset and uniquely identify that individual. Below, we calculate the $k$-anonymity of the dataset.\n",
    "\n",
    "(Though the data descroption indicates that latitude,longitude might provide extra information than city/province, we find that not the case in data for China, so we don't include these variables here.)\n"
   ]
  },
  {
   "cell_type": "code",
   "execution_count": 470,
   "metadata": {},
   "outputs": [],
   "source": [
    "dfKAnon = dfc.copy()\n",
    "\n",
    "# Convert the nan's to strings since they're easier to deal with this way.\n",
    "# We'll convert them back if needed later\n",
    "naToStr(dfKAnon, dfKAnon.columns)\n",
    "\n",
    "kAnonDict = {}\n",
    "for i1 in range(len(dfKAnon)):\n",
    "    row = dfKAnon.iloc[i1]\n",
    "    key = (row['age'],row['sex'], row['city'], row['province'], row['admin_id'])\n",
    "    if key not in kAnonDict:\n",
    "        kAnonDict[key] = 0\n",
    "    kAnonDict[key] += 1\n",
    "    "
   ]
  },
  {
   "cell_type": "code",
   "execution_count": 471,
   "metadata": {
    "scrolled": true
   },
   "outputs": [],
   "source": [
    "# Sort based on the key, i.e. the number of times this pattern appeared in the dataset\n",
    "sortedKAnonDict = sorted(kAnonDict.items(), key = operator.itemgetter(1))"
   ]
  },
  {
   "cell_type": "code",
   "execution_count": 398,
   "metadata": {},
   "outputs": [
    {
     "data": {
      "text/plain": [
       "[(('NaN', 'NaN', 'Shenzhen City', 'Guangdong', 22.65389, 114.1291, 8076.0),\n",
       "  702),\n",
       " (('NaN', 'NaN', 'Wenzhou City', 'Zhejiang', 27.90538, 120.4404, 9219.0), 990),\n",
       " (('NaN', 'NaN', 'Huanggang City', 'Hubei', 30.71988, 115.3378, 4363.0), 1130),\n",
       " (('NaN', 'NaN', 'Xiaogan City', 'Hubei', 31.12046, 113.8795, 9519.0), 1262),\n",
       " (('NaN', 'NaN', 'Wuhan City', 'Hubei', 30.62506, 114.3421, 9390.0), 13487)]"
      ]
     },
     "execution_count": 398,
     "metadata": {},
     "output_type": "execute_result"
    }
   ],
   "source": [
    "# Top ten most common keys\n",
    "sortedKAnonDict[-5:]"
   ]
  },
  {
   "cell_type": "code",
   "execution_count": 399,
   "metadata": {},
   "outputs": [
    {
     "data": {
      "text/plain": [
       "[(('40-49',\n",
       "   'female',\n",
       "   'Toronto',\n",
       "   'Ontario',\n",
       "   43.71425228023435,\n",
       "   -79.24526125793656,\n",
       "   10364.0),\n",
       "  1),\n",
       " (('70', 'male', 'Wuhan City', 'Hubei', 30.62506, 114.3421, 9390.0), 1),\n",
       " (('76', 'female', 'Wuhan City', 'Hubei', 30.62506, 114.3421, 9390.0), 1),\n",
       " (('72', 'male', 'Wuhan City', 'Hubei', 30.62506, 114.3421, 9390.0), 1),\n",
       " (('79', 'male', 'Wuhan City', 'Hubei', 30.62506, 114.3421, 9390.0), 1),\n",
       " (('55', 'male', 'Wuhan City', 'Hubei', 30.62506, 114.3421, 9390.0), 1),\n",
       " (('87', 'male', 'Wuhan City', 'Hubei', 30.62506, 114.3421, 9390.0), 1),\n",
       " (('66', 'female', 'Wuhan City', 'Hubei', 30.62506, 114.3421, 9390.0), 1),\n",
       " (('78', 'male', 'Wuhan City', 'Hubei', 30.62506, 114.3421, 9390.0), 1),\n",
       " (('67', 'male', 'Wuhan City', 'Hubei', 30.62506, 114.3421, 9390.0), 1)]"
      ]
     },
     "execution_count": 399,
     "metadata": {},
     "output_type": "execute_result"
    }
   ],
   "source": [
    "# Top ten least common keys\n",
    "sortedKAnonDict[:10]"
   ]
  },
  {
   "cell_type": "code",
   "execution_count": 472,
   "metadata": {},
   "outputs": [
    {
     "data": {
      "text/plain": [
       "(27, 825, 2, 93, 0)"
      ]
     },
     "execution_count": 472,
     "metadata": {},
     "output_type": "execute_result"
    }
   ],
   "source": [
    "# Calculate how many there are at each k level\n",
    "kCounts = {}\n",
    "for i in range(1,6):\n",
    "    kCounts[i] = 0\n",
    "for key, value in sortedKAnonDict:\n",
    "    if value not in kCounts:\n",
    "        kCounts[value] = 0\n",
    "    kCounts[value] += 1\n",
    "    \n",
    "kCounts[1], kCounts[2], kCounts[3], kCounts[4], kCounts[5]"
   ]
  },
  {
   "cell_type": "markdown",
   "metadata": {},
   "source": [
    "As we probably expected, the initial  𝑘 -anonymity of this dataset is 1. This isn't too surprising. However, we do see that there are only 20 that are totally unique, and only a handful that are below 5-anonymous. Also, by examining some of the unique records, they all have a unique age. I would thus start by converting ages to ranges.\n",
    "\n",
    "#### 1. adjusting age range"
   ]
  },
  {
   "cell_type": "code",
   "execution_count": 401,
   "metadata": {},
   "outputs": [
    {
     "data": {
      "text/plain": [
       "array([nan, '66', '27', '17', '51', '68', '26', '30', '53', '35', '28',\n",
       "       '58', '33', '50', '45', '24', '88', '29', '21', '78', '52', '60',\n",
       "       '82', '7', '44', '69', '16', '47', '8', '43', '10', '55', '25',\n",
       "       '38', '42', '34', '62', '39', '65', '73', '48', '54', '46', '96',\n",
       "       '32', '63', '64', '57', '41', '20', '36', '80', '70', '61', '56',\n",
       "       '37', '75', '94', '1', '22', '67', '15', '79', '23', '49', '40',\n",
       "       '59', '31', '76', '40-49', '71', '87', '4', '2', '22-80', '5',\n",
       "       '19-77', '21-72', '3', '77', '72', '16-80', '74', '23-72', '19',\n",
       "       '81', '9', '12', '83', '36-45', '11', '84', '8-68', '50-59',\n",
       "       '60-69', '70-82', '25-89', '85', '15-88', '89', '86', '21-39'],\n",
       "      dtype=object)"
      ]
     },
     "execution_count": 401,
     "metadata": {},
     "output_type": "execute_result"
    }
   ],
   "source": [
    "dfc.age.unique()"
   ]
  },
  {
   "cell_type": "markdown",
   "metadata": {},
   "source": [
    "Firstly, we want to divide ages to a reasonable range, such as every 10 years. We see that there are some existing ranges of ages including: '40-49','50-59', '60-69','70-82','21-39','36-45','22-80', '19-77','21-72','16-80','23-72', '25-89','15-88','8-68'\n",
    "Here, '40-49','50-59', '60-69','70-82' are some valid ranges that we would like to use or that we can use; '21-39','36-45' are some age ranges providing some information but not enough, and the rest are similar to all age range. After some examination on the number of each cases with these ranges, we decide to keep the '21-39','36-45'labels as the don't seem to affect us acieving up to 5-anonymity, and we also change the rest of the ranges to NaNs.\n",
    "We also change each age to a range of 10 years comtaining the given age."
   ]
  },
  {
   "cell_type": "code",
   "execution_count": 443,
   "metadata": {},
   "outputs": [],
   "source": [
    "agee = dfc.age.copy()\n",
    "for i in range(len(agee)):\n",
    "    if len(str(agee[i])) <3:\n",
    "        if pd.notna(agee[i]):\n",
    "            init = int(agee[i])//10\n",
    "            if init >= 7:\n",
    "                agee[i] = 'above 70'\n",
    "            else:\n",
    "                agee[i] = str(init*10) +'-'+str(init*10+9)\n",
    "            \n",
    "    else:\n",
    "        if agee[i] in ['22-80', '19-77','21-72','16-80','23-72', '25-89','15-88','8-68']:\n",
    "            agee[i] = 'NaN'\n",
    "        else:\n",
    "            if agee[i] == '70-82':\n",
    "                agee[i] = 'above 70'\n",
    "        "
   ]
  },
  {
   "cell_type": "code",
   "execution_count": 446,
   "metadata": {},
   "outputs": [],
   "source": [
    "dfc['age_range'] = agee"
   ]
  },
  {
   "cell_type": "code",
   "execution_count": 454,
   "metadata": {},
   "outputs": [
    {
     "data": {
      "text/plain": [
       "(3, 561, 3, 137, 0)"
      ]
     },
     "execution_count": 454,
     "metadata": {},
     "output_type": "execute_result"
    }
   ],
   "source": [
    "dfKAnon = dfc.copy()\n",
    "\n",
    "# Convert the nan's to strings since they're easier to deal with this way.\n",
    "# We'll convert them back if needed later\n",
    "naToStr(dfKAnon, dfKAnon.columns)\n",
    "\n",
    "kAnonDict = {}\n",
    "for i1 in range(len(dfKAnon)):\n",
    "    row = dfKAnon.iloc[i1]\n",
    "    key = (row['age_range'],row['sex'], row['city'], row['province'], row['latitude'], row['longitude'], row['admin_id'])\n",
    "    if key not in kAnonDict:\n",
    "        kAnonDict[key] = 0\n",
    "    kAnonDict[key] += 1\n",
    "\n",
    "sortedKAnonDict = sorted(kAnonDict.items(), key = operator.itemgetter(1))\n",
    "kCounts = {}\n",
    "for i in range(1,6):\n",
    "    kCounts[i] = 0\n",
    "for key, value in sortedKAnonDict:\n",
    "    if value not in kCounts:\n",
    "        kCounts[value] = 0\n",
    "    kCounts[value] += 1\n",
    "    \n",
    "kCounts[1], kCounts[2], kCounts[3], kCounts[4], kCounts[5]"
   ]
  },
  {
   "cell_type": "markdown",
   "metadata": {},
   "source": [
    "#### 2. about gender\n",
    "\n",
    "Gender is some variable that would provide some information about the patient, and we do want to include this variable here. However, at the same time, the reaosn why gender make some key indices unique is that there are too many missing data in the dataset. While we might randomly assign genders to some data points we have to reduce the anonymity, we beieve that it would be fine to just ignore gender when calculating anonymity here."
   ]
  },
  {
   "cell_type": "code",
   "execution_count": 478,
   "metadata": {},
   "outputs": [
    {
     "data": {
      "text/plain": [
       "(2, 420, 1, 142, 0)"
      ]
     },
     "execution_count": 478,
     "metadata": {},
     "output_type": "execute_result"
    }
   ],
   "source": [
    "dfKAnon = dfc.copy()\n",
    "\n",
    "# Convert the nan's to strings since they're easier to deal with this way.\n",
    "# We'll convert them back if needed later\n",
    "naToStr(dfKAnon, dfKAnon.columns)\n",
    "\n",
    "kAnonDict = {}\n",
    "for i1 in range(len(dfKAnon)):\n",
    "    row = dfKAnon.iloc[i1]\n",
    "    key = (row['age_range'], row['city'], row['province'], row['admin_id']) #deleted row['sex']\n",
    "    if key not in kAnonDict:\n",
    "        kAnonDict[key] = 0\n",
    "    kAnonDict[key] += 1\n",
    "\n",
    "sortedKAnonDict = sorted(kAnonDict.items(), key = operator.itemgetter(1))\n",
    "kCounts = {}\n",
    "for i in range(1,6):\n",
    "    kCounts[i] = 0\n",
    "for key, value in sortedKAnonDict:\n",
    "    if value not in kCounts:\n",
    "        kCounts[value] = 0\n",
    "    kCounts[value] += 1\n",
    "    \n",
    "kCounts[1], kCounts[2], kCounts[3], kCounts[4], kCounts[5]"
   ]
  },
  {
   "cell_type": "code",
   "execution_count": 475,
   "metadata": {},
   "outputs": [
    {
     "data": {
      "text/plain": [
       "[(('40-49', 'Toronto', 'Ontario', 10364.0), 1),\n",
       " (('60-69', \"Yuan'an County, Yichang City\", 'Hubei', 9933.0), 1),\n",
       " (('NaN', 'Shek Lei', 'Hong Kong', 8051.0), 2),\n",
       " (('60-69', 'Zhenlai County, Baicheng City', 'Jilin', 10120.0), 2),\n",
       " (('20-29', 'Longshan District, Liaoyuan City', 'Jilin', 5694.0), 2),\n",
       " (('10-19', 'Gongzhuling City, Siping City', 'Jilin', 3653.0), 2),\n",
       " (('60-69', 'Changchun City', 'Jilin', 2070.0), 2),\n",
       " (('50-59', 'Tonghua City', 'Jilin', 8708.0), 2),\n",
       " (('30-39', 'Meihekou City, Tonghua City', 'Jilin', 6101.0), 2),\n",
       " (('NaN', 'Yanbian Prefecture', 'Jilin', 9707.0), 2)]"
      ]
     },
     "execution_count": 475,
     "metadata": {},
     "output_type": "execute_result"
    }
   ],
   "source": [
    "sortedKAnonDict[:10]"
   ]
  },
  {
   "cell_type": "markdown",
   "metadata": {},
   "source": [
    "We checked upon these datasets and find that we can't increase anonymity by changing the `city` to NaN for these values. And the variables cannot really be further generalized in this case. Thus, we would choose to drop these records. This would not make too much change as we have around 40,000 data points in total and here we only lose less than a thousant data points. \n",
    "\n",
    "Another thing we might do is to just leave the age range and only look at the location data and drop those values with unique/less frequent keys for these location identifiers. The reason we can do so is that we have so many missing data for age ranges too, which means that though they appear less frequently their anonymity might still be high among all dataset."
   ]
  },
  {
   "cell_type": "code",
   "execution_count": 508,
   "metadata": {},
   "outputs": [
    {
     "name": "stderr",
     "output_type": "stream",
     "text": [
      "/Users/qiang/opt/anaconda3/lib/python3.7/site-packages/ipykernel_launcher.py:14: UserWarning: Boolean Series key will be reindexed to match DataFrame index.\n",
      "  \n"
     ]
    }
   ],
   "source": [
    "threeAnonDF = dfKAnon.copy()\n",
    "fiveAnonDF = dfKAnon.copy()\n",
    "\n",
    "for key, value in kAnonDict.items():\n",
    "    age, city, province,admin_id = key\n",
    "    \n",
    "    indices = ~((threeAnonDF['age_range'] == age) & (threeAnonDF['city'] == city) & (threeAnonDF['province'] == province) \\\n",
    "             & (threeAnonDF['admin_id'] == admin_id))\n",
    "    \n",
    "    if value <= 3:\n",
    "        threeAnonDF = threeAnonDF[indices]\n",
    "        \n",
    "    if value <= 5:\n",
    "        fiveAnonDF = fiveAnonDF[indices]"
   ]
  },
  {
   "cell_type": "code",
   "execution_count": 509,
   "metadata": {},
   "outputs": [
    {
     "data": {
      "text/plain": [
       "(42334, 41489, 40921)"
      ]
     },
     "execution_count": 509,
     "metadata": {},
     "output_type": "execute_result"
    }
   ],
   "source": [
    "len(dfc),len(threeAnonDF), len(fiveAnonDF)"
   ]
  },
  {
   "cell_type": "markdown",
   "metadata": {},
   "source": [
    "## Examination\n",
    "\n",
    "As we have very limited amount of known outcomes from the dataset, it's almost unlikely that we can correctly predict outcomes. However, we could still check the relation between some variables and the outcomes before and after we increase anonymity is still maintained.\n",
    "\n",
    "Notice that we are only comparing with 3- and 5-anonymity data as the 4- and 5-anonymity data are basically the same."
   ]
  },
  {
   "cell_type": "code",
   "execution_count": 510,
   "metadata": {},
   "outputs": [
    {
     "name": "stdout",
     "output_type": "stream",
     "text": [
      "[nan 'discharged' 'died' 'stable']\n"
     ]
    },
    {
     "data": {
      "text/plain": [
       "Text(0.5, 1.0, 'Distribution in 5-anonymous Dataset')"
      ]
     },
     "execution_count": 510,
     "metadata": {},
     "output_type": "execute_result"
    },
    {
     "data": {
      "image/png": "[encoded data removed]",
      "text/plain": [
       "<Figure size 864x288 with 3 Axes>"
      ]
     },
     "metadata": {},
     "output_type": "display_data"
    }
   ],
   "source": [
    "print(dfc['outcome'].unique())\n",
    "plt.figure(figsize = [12,4])\n",
    "plt.subplot(1, 3, 1)\n",
    "plt.hist(dfc['outcome'].dropna())\n",
    "plt.ylabel('Count')\n",
    "plt.title('Distribution in Full Dataset')\n",
    "\n",
    "plt.subplot(1, 3, 2)\n",
    "plt.hist(threeAnonDF.loc[threeAnonDF['outcome'] != 'NaN', 'outcome'])\n",
    "plt.ylabel('Count')\n",
    "plt.title('Distribution in 3-anonymous Dataset')\n",
    "\n",
    "\n",
    "plt.subplot(1, 3, 3)\n",
    "plt.hist(fiveAnonDF.loc[fiveAnonDF['outcome'] != 'NaN', 'outcome'])\n",
    "plt.ylabel('Count')\n",
    "plt.title('Distribution in 5-anonymous Dataset')\n"
   ]
  },
  {
   "cell_type": "code",
   "execution_count": 524,
   "metadata": {},
   "outputs": [
    {
     "data": {
      "text/plain": [
       "array(['40-49', '30-39', '50-59', '20-29', '60-69', 'above 70'],\n",
       "      dtype=object)"
      ]
     },
     "execution_count": 524,
     "metadata": {},
     "output_type": "execute_result"
    }
   ],
   "source": [
    "current_data.age_range.unique()"
   ]
  },
  {
   "cell_type": "code",
   "execution_count": 525,
   "metadata": {},
   "outputs": [
    {
     "data": {
      "text/plain": [
       "<seaborn.axisgrid.FacetGrid at 0x1c7f5fa050>"
      ]
     },
     "execution_count": 525,
     "metadata": {},
     "output_type": "execute_result"
    },
    {
     "data": {
      "image/png": "[encoded data removed]",
      "text/plain": [
       "<Figure size 576x360 with 1 Axes>"
      ]
     },
     "metadata": {},
     "output_type": "display_data"
    },
    {
     "data": {
      "image/png": "[encoded data removed]",
      "text/plain": [
       "<Figure size 525.475x432 with 1 Axes>"
      ]
     },
     "metadata": {},
     "output_type": "display_data"
    },
    {
     "data": {
      "image/png": "[encoded data removed]",
      "text/plain": [
       "<Figure size 525.475x432 with 1 Axes>"
      ]
     },
     "metadata": {},
     "output_type": "display_data"
    }
   ],
   "source": [
    "plt.figure(figsize = (8, 5))\n",
    "\n",
    "\n",
    "plt.hist(dfc_age[dfc['outcome'] == 'discharged'].dropna(), alpha = 0.6)\n",
    "plt.hist(dfc_age[dfc['outcome'] == 'stable'].dropna(), alpha = 0.4)\n",
    "plt.hist(dfc_age[dfc['outcome'] == 'died'].dropna(), alpha = 0.4)\n",
    "plt.xlabel('Age')\n",
    "plt.ylabel('Count')\n",
    "plt.title('Age Distribution Based on Recovered/Deceased')\n",
    "plt.legend(['discharged','stable', 'died'])\n",
    "\n",
    "current_data = threeAnonDF.loc[(threeAnonDF['outcome'] != 'NaN') & (fiveAnonDF['age_range'] != 'NaN')]\n",
    "g = sns.catplot(x=\"age_range\", kind=\"count\", hue=\"outcome\", data=current_data,\n",
    "                height=6, palette=\"muted\",order = [ '20-29', '30-39','40-49', '50-59', '60-69', 'above 70'])\n",
    "g.despine(left=True)\n",
    "g.set_ylabels(\"State histogram for Ages with 3-anonymity\")\n",
    "\n",
    "\n",
    "current_data = fiveAnonDF.loc[(fiveAnonDF['outcome'] != 'NaN') & (fiveAnonDF['age_range'] != 'NaN')]\n",
    "g2 = sns.catplot(x=\"age_range\", kind=\"count\", hue=\"outcome\", data=current_data,\n",
    "                height=6, palette=\"muted\",order = [ '20-29', '30-39','40-49', '50-59', '60-69', 'above 70'])\n",
    "g2.despine(left=True)\n",
    "g2.set_ylabels(\"State histogram for Ages with 5-anonymity\")\n"
   ]
  },
  {
   "cell_type": "markdown",
   "metadata": {},
   "source": [
    "### United State"
   ]
  },
  {
   "cell_type": "code",
   "execution_count": 539,
   "metadata": {},
   "outputs": [],
   "source": [
    "dfu = dates_confirm[1]\n",
    "dfu=dfu.reset_index(drop = True)"
   ]
  },
  {
   "cell_type": "code",
   "execution_count": 540,
   "metadata": {},
   "outputs": [
    {
     "data": {
      "text/plain": [
       "array([nan, '30-39', '39', '40-49', '60-69', '80-89', '90-99', '70-79',\n",
       "       '20-29', '46', '45', '70-70', '50-59', '10-19', '29', '22', '63',\n",
       "       '71', '56', '44', '18-65', '32', '60-70', '27', '60-', '18-50',\n",
       "       '61', '66', '54', '77', '75', '65', '67', '55', '74', '18-49',\n",
       "       '41-60', '61-80', '69', '47', '18-60', '81', '60-99', '70',\n",
       "       '40-50', '40-69', '30-69', '40-45', '60', '68', '0-9', '64', '73',\n",
       "       '79', '54-56', '0-19', '20-30', '57', '50-99', '18-20', '17-66',\n",
       "       '65-', '53', '18-99', '34-66', '55-74', '75-', '35-54', '55-',\n",
       "       '0-18', '18-', '31', '51', '50', '42', '24', '83', '26', '49',\n",
       "       '36', '48', '74-76', '27-29', '50-60', '41', '62', '59', '37',\n",
       "       '20', '19', '58', '13-19', '30-40', '70-100', '0-60', '18 - 100',\n",
       "       '0-20', '72', '88', '28', '25', '52', '21', '76', '89', '17', '18',\n",
       "       '43', '30', '35', '40', '80', '30-70', '50-100', '60-100', '23',\n",
       "       '94', '50-', '33', '34', '91', '87', '93', '82', '38', '84', '78',\n",
       "       '6', '14-18', '9', '11', '0-1', '8', '10', '13', '95', '86', '90',\n",
       "       '85', '1', '2', '15', '96', '16', '3', '14', '121', '99', '97',\n",
       "       '12', '92', '7', '80-', '21-', 46.0, 45.0], dtype=object)"
      ]
     },
     "execution_count": 540,
     "metadata": {},
     "output_type": "execute_result"
    }
   ],
   "source": [
    "dfu.age.unique()"
   ]
  },
  {
   "cell_type": "code",
   "execution_count": 558,
   "metadata": {},
   "outputs": [],
   "source": [
    "dfu.loc[dfu.age ==46.0,'age'] = '46'\n",
    "dfu.loc[dfu.age ==45.0,'age'] = '45'\n",
    "\n",
    "dfu_age = dfu['age'].copy()\n",
    "for i in range(len(dfu_age)):\n",
    "    if dfu_age[i] is not np.NaN:\n",
    "        ww = str(dfu_age[i]).split('-')\n",
    "        if len(ww) > 1 and len(ww[1]) > 1:\n",
    "            a= int(ww[0])\n",
    "            b = int(ww[1])\n",
    "            dfu_age[i] = np.random.randint(a,b+1)\n",
    "        else:\n",
    "            if ww[0] == 'nan':\n",
    "                dfu_age[i] = np.NaN\n",
    "            else:\n",
    "                dfu_age[i] = int(ww[0])\n",
    "    else:\n",
    "        dfu_age[i] = np.NaN\n",
    "   "
   ]
  },
  {
   "cell_type": "code",
   "execution_count": 542,
   "metadata": {},
   "outputs": [
    {
     "data": {
      "text/plain": [
       "array([nan, 'Discharged from hospital', 'not hospitalized', 'recovered',\n",
       "       'recovering at home 03.03.2020', 'death', 'died', 'Death'],\n",
       "      dtype=object)"
      ]
     },
     "execution_count": 542,
     "metadata": {},
     "output_type": "execute_result"
    }
   ],
   "source": [
    "dfu['outcome'].unique()"
   ]
  },
  {
   "cell_type": "code",
   "execution_count": 543,
   "metadata": {},
   "outputs": [
    {
     "data": {
      "text/plain": [
       "array([nan, 'recovered', 'not hospitalized', 'died'], dtype=object)"
      ]
     },
     "execution_count": 543,
     "metadata": {},
     "output_type": "execute_result"
    }
   ],
   "source": [
    "dfu.loc[dfu.outcome =='Discharged from hospital','outcome'] = 'recovered'\n",
    "dfu.loc[dfu.outcome == 'recovering at home 03.03.2020','outcome'] = 'recovered'\n",
    "dfu.loc[dfu.outcome == 'death','outcome'] = 'died'\n",
    "dfu.loc[dfu.outcome == 'Death','outcome'] = 'died'\n",
    "dfu['outcome'].unique()"
   ]
  },
  {
   "cell_type": "code",
   "execution_count": 559,
   "metadata": {},
   "outputs": [
    {
     "data": {
      "text/plain": [
       "<matplotlib.legend.Legend at 0x1c8462bed0>"
      ]
     },
     "execution_count": 559,
     "metadata": {},
     "output_type": "execute_result"
    },
    {
     "data": {
      "image/png": "[encoded data removed]",
      "text/plain": [
       "<Figure size 1152x360 with 2 Axes>"
      ]
     },
     "metadata": {},
     "output_type": "display_data"
    }
   ],
   "source": [
    "plt.figure(figsize = (16, 5))\n",
    "\n",
    "\n",
    "plt.subplot(1, 2, 1)\n",
    "plt.hist(dfu_age.dropna())\n",
    "plt.xlabel('Age')\n",
    "plt.ylabel('Count')\n",
    "plt.title('Overall Age Distribution')\n",
    "\n",
    "plt.subplot(1, 2, 2)\n",
    "plt.hist(dfu_age[dfu['outcome'] == 'recovered'].dropna(), alpha = 0.6)\n",
    "plt.hist(dfu_age[dfu['outcome'] == 'not hospitalized'].dropna(), alpha = 0.4)\n",
    "plt.hist(dfu_age[dfu['outcome'] == 'died'].dropna(), alpha = 0.4)\n",
    "plt.xlabel('Age')\n",
    "plt.ylabel('Count')\n",
    "plt.title('Age Distribution Based on Recovered/Deceased')\n",
    "plt.legend(['recovered','not hospitalized', 'died'])"
   ]
  },
  {
   "cell_type": "markdown",
   "metadata": {},
   "source": [
    "### Italy"
   ]
  },
  {
   "cell_type": "code",
   "execution_count": 562,
   "metadata": {},
   "outputs": [
    {
     "name": "stdout",
     "output_type": "stream",
     "text": [
      "Death count:  3\n",
      "Discharge count: 4\n",
      "Total: 158004\n"
     ]
    }
   ],
   "source": [
    "print('Death count: ', sum(dates_confirm[0]['outcome'] == 'death'))\n",
    "print('Discharge count:', sum(dates_confirm[0]['outcome'] == 'discharge'))\n",
    "print('Total: 158004')"
   ]
  },
  {
   "cell_type": "code",
   "execution_count": null,
   "metadata": {},
   "outputs": [],
   "source": []
  },
  {
   "cell_type": "code",
   "execution_count": null,
   "metadata": {},
   "outputs": [],
   "source": []
  },
  {
   "cell_type": "code",
   "execution_count": null,
   "metadata": {},
   "outputs": [],
   "source": []
  }
 ],
 "metadata": {
  "kernelspec": {
   "display_name": "Python 3",
   "language": "python",
   "name": "python3"
  },
  "language_info": {
   "codemirror_mode": {
    "name": "ipython",
    "version": 3
   },
   "file_extension": ".py",
   "mimetype": "text/x-python",
   "name": "python",
   "nbconvert_exporter": "python",
   "pygments_lexer": "ipython3",
   "version": "3.7.5"
  }
 },
 "nbformat": 4,
 "nbformat_minor": 4
}
